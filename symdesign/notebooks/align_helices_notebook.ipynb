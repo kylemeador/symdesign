{
 "cells": [
  {
   "cell_type": "code",
   "execution_count": 35,
   "id": "aa5f098b-64d1-4be8-9109-e8e61134b768",
   "metadata": {
    "tags": []
   },
   "outputs": [],
   "source": [
    "import argparse\n",
    "from copy import copy\n",
    "import inspect\n",
    "import os.path\n",
    "import sys\n",
    "\n",
    "import ipywidgets as widgets\n",
    "\n",
    "from symdesign import flags\n",
    "from symdesign.SymDesign import app"
   ]
  },
  {
   "cell_type": "code",
   "execution_count": 39,
   "id": "79d131cd-48ba-4e1f-ae50-87a1d1158e05",
   "metadata": {
    "tags": []
   },
   "outputs": [
    {
     "data": {
      "application/vnd.jupyter.widget-view+json": {
       "model_id": "8016f681ec8946e1a6a66351cf99ba37",
       "version_major": 2,
       "version_minor": 0
      },
      "text/plain": [
       "VBox(children=(Label(value='Please input the module(s) you would like to include with this job'), TagsInput(va…"
      ]
     },
     "metadata": {},
     "output_type": "display_data"
    }
   ],
   "source": [
    "def get_class_that_defined_method(meth):\n",
    "    \"\"\"Where meth is a bound method\"\"\"\n",
    "    if inspect.ismethod(meth):\n",
    "        for cls in inspect.getmro(meth.__self__.__class__):\n",
    "            if meth.__name__ in cls.__dict__:\n",
    "                return cls\n",
    "    return None\n",
    "\n",
    "\n",
    "# All modules\n",
    "# flags.available_modules\n",
    "notebook_allowed_modules = [\n",
    "    flags.align_helices,\n",
    "    flags.analysis,\n",
    "    flags.check_clashes,\n",
    "    flags.cluster_poses,\n",
    "    flags.design,\n",
    "    flags.expand_asu,\n",
    "    flags.generate_fragments,\n",
    "    flags.helix_bending,\n",
    "    flags.protocol,\n",
    "    flags.rename_chains,\n",
    "    flags.select_designs,\n",
    "    flags.select_poses,\n",
    "    flags.select_designs,\n",
    "]\n",
    "module_help = widgets.Label(value='Please input the module(s) you would like to include with this job')\n",
    "module_tags = widgets.TagsInput(\n",
    "    value=[flags.align_helices],\n",
    "    allowed_tags=notebook_allowed_modules,\n",
    "    allow_duplicates=False\n",
    ")\n",
    "module_input = widgets.VBox([module_help, module_tags])\n",
    "display(module_input)"
   ]
  },
  {
   "cell_type": "code",
   "execution_count": 67,
   "id": "ad4005af-c166-48e0-a69e-5bc251dd901d",
   "metadata": {
    "tags": []
   },
   "outputs": [
    {
     "name": "stdout",
     "output_type": "stream",
     "text": [
      "15\n",
      "TextStyle()\n",
      "16\n",
      "DescriptionStyle()\n",
      "80\n",
      "11\n",
      "ToggleButtonStyle()\n",
      "16\n",
      "ToggleButtonStyle()\n",
      "23\n",
      "ToggleButtonStyle()\n",
      "115\n"
     ]
    },
    {
     "data": {
      "application/vnd.jupyter.widget-view+json": {
       "model_id": "6e0d6bb9a68c44179fac3d5cb61071ef",
       "version_major": 2,
       "version_minor": 0
      },
      "text/plain": [
       "Tab(children=(VBox(children=(Text(value='', description='--aligned-chain', placeholder='', style=TextStyle(des…"
      ]
     },
     "metadata": {},
     "output_type": "display_data"
    }
   ],
   "source": [
    "choices_widget = widgets.Dropdown\n",
    "multiple_text = widgets.TagsInput\n",
    "single_text = widgets.Text\n",
    "\n",
    "def process_module_arg_to_widget(arg, widget_kwargs):\n",
    "    if arg.nargs:\n",
    "        widget = multiple_text(**widget_kwargs)\n",
    "    else:\n",
    "        if arg.metavar:\n",
    "            placeholder = arg.metavar\n",
    "        else:\n",
    "            placeholder = ''  # arg.default\n",
    "        widget = single_text(**widget_kwargs, placeholder=placeholder)\n",
    "\n",
    "    return widget\n",
    "\n",
    "\n",
    "none_tuple = (None,)\n",
    "# Add each requested as its own widget, formatting module arguments\n",
    "all_module_widgets = []  # widgets.IntSlider(), widgets.Text()]\n",
    "# for group in parser._action_groups:\n",
    "for group in flags.argparsers[flags.parser_entire]._action_groups:\n",
    "    for arg in group._group_actions:\n",
    "        if isinstance(arg, argparse._SubParsersAction):\n",
    "            for module, subparser in arg.choices.items():\n",
    "                if module in module_tags.value:\n",
    "                    module_description = widgets.Label(value=subparser.description)\n",
    "                    module_widgets = []\n",
    "                    for group in subparser._action_groups:\n",
    "                        # These are the processed module arguments\n",
    "                        for module_arg in group._group_actions:\n",
    "                            # description = f'--{module_arg.dest}'\n",
    "                            # print(module_arg)\n",
    "                            # help = module_arg.help\n",
    "                            choices = module_arg.choices\n",
    "                            required = module_arg.required\n",
    "                            type_ = module_arg.type\n",
    "                            \n",
    "                            if module_arg.default is None:\n",
    "                                if module_arg.nargs:\n",
    "                                    module_value = []\n",
    "                                    # choices = none_tuple + copy(choices)\n",
    "                                else:\n",
    "                                #     format_widget = lambda widget: widget\n",
    "                                    module_value = module_arg.default\n",
    "                            elif isinstance(module_arg.default, bool):\n",
    "                                module_value = module_arg.default\n",
    "                            elif isinstance(module_arg.default, (int, float)):\n",
    "                                module_value = str(module_arg.default)\n",
    "                            else:\n",
    "                                module_value = module_arg.default\n",
    "                                \n",
    "                            # try:\n",
    "                            widget_kwargs = dict(value=module_value,\n",
    "                                                 description=module_arg.option_strings[-1],\n",
    "                                                 tooltip=module_arg.help % vars(module_arg))\n",
    "                            # except TypeError as error:\n",
    "                                # print(error)\n",
    "                                # input(module_arg.help)\n",
    "                            if isinstance(module_arg, (argparse._StoreTrueAction, argparse._StoreFalseAction,\n",
    "                                                       argparse.BooleanOptionalAction)):  # .action in boolean_actions:\n",
    "                                if isinstance(module_arg, argparse.BooleanOptionalAction):\n",
    "                                    # Swap the \"--no-\" prefixed flag for the typical prefix\n",
    "                                    widget_kwargs.pop('description')\n",
    "                                    widget_kwargs['description'] = module_arg.option_strings[-2]\n",
    "                                widget = widgets.ToggleButton(**widget_kwargs)  # , tooltip=help)\n",
    "                            elif isinstance(module_arg, argparse._StoreAction):\n",
    "                                if choices:\n",
    "                                    if module_value not in choices:\n",
    "                                        # When there is no default provided\n",
    "                                        choices_ = (module_value, *choices)\n",
    "                                    else:\n",
    "                                        choices_ = choices\n",
    "                                    widget = choices_widget(**widget_kwargs, options=choices_)\n",
    "                                elif type_ is None or get_class_that_defined_method(type_) == str:\n",
    "                                    # These are processed as strings\n",
    "                                    widget = process_module_arg_to_widget(module_arg, widget_kwargs)\n",
    "                                    # if module_arg.nargs:\n",
    "                                    #     widget = multiple_text(**widget_kwargs)\n",
    "                                    # else:\n",
    "                                    #     if module_arg.metavar:\n",
    "                                    #         placeholder = module_arg.metavar\n",
    "                                    #     else:\n",
    "                                    #         placeholder = ''\n",
    "                                    #     widget = single_text(**widget_kwargs, placeholder=placeholder)\n",
    "                                elif type_ == int:\n",
    "                                    widget = process_module_arg_to_widget(module_arg, widget_kwargs)\n",
    "                                    # if module_arg.nargs:\n",
    "                                    #     # There are currently none of these\n",
    "                                    #     widget = widgets.IntsInput(**widget_kwargs)\n",
    "                                    # else:\n",
    "                                    #     widget = widgets.IntText(**widget_kwargs)\n",
    "                                elif type_ == float:\n",
    "                                    widget = process_module_arg_to_widget(module_arg, widget_kwargs)\n",
    "                                    # if module_arg.nargs:\n",
    "                                    #     # There are currently none of these\n",
    "                                    #     widget = widgets.FloatsInput(**widget_kwargs)\n",
    "                                    # else:\n",
    "                                    #     widget = widgets.FloatText(**widget_kwargs)\n",
    "                                    # widget = widgets.HBox([widget, widgets.Label(value=module_arg.metavar)])\n",
    "                                elif type_ == os.path.abspath:\n",
    "                                    widget = process_module_arg_to_widget(module_arg, widget_kwargs)\n",
    "                                    # if module_arg.nargs:\n",
    "                                    #     # There are currently none of these\n",
    "                                    #     widget = multiple_text(**widget_kwargs, placeholder=module_arg.metavar)\n",
    "                                    # else:\n",
    "                                    #     if module_arg.metavar:\n",
    "                                    #         placeholder = module_arg.metavar\n",
    "                                    #     else:\n",
    "                                    #         placeholder = ''\n",
    "                                    #     widget = single_text(**widget_kwargs, placeholder=placeholder)\n",
    "                                # Custom types\n",
    "                                elif type_ == flags.temp_gt0:\n",
    "                                    widget = process_module_arg_to_widget(module_arg, widget_kwargs)\n",
    "                                    # widget = widgets.FloatsInput(**widget_kwargs)\n",
    "                            else:\n",
    "                                continue\n",
    "                            # widgets.HBox([widget, widgets.Label(value=module_arg.help)])\n",
    "                            # Add the module widgets to all widgets\n",
    "                            module_widgets.append(widget)  # format_widget(widget))\n",
    "                    \n",
    "                    max_description_length = 0\n",
    "                    for widget in module_widgets:\n",
    "                        if len(widget.description) > max_description_length:\n",
    "                            max_description_length = len(widget.description)\n",
    "                            print(max_description_length)\n",
    "                            print(widget.style)\n",
    "\n",
    "                    module_layout = {'description_width': f'{max_description_length * 6}px'}\n",
    "                    print(max_description_length * 5)\n",
    "                    for widget in module_widgets:\n",
    "                        widget.style = module_layout\n",
    "                    # Add the module widgets to all widgets\n",
    "                    all_module_widgets.append(widgets.VBox(module_widgets))\n",
    "# For formatting the help, use\n",
    "# widgets.HBox([WIDGET, widgets.Label(value=\"The $m$ in $E=mc^2$:\")])\n",
    "# for boolean flags, use\n",
    "# widgets.ToggleButton(\n",
    "#     value=False,\n",
    "#     description='Click me',\n",
    "#     disabled=False,\n",
    "#     button_style='', # 'success', 'info', 'warning', 'danger' or ''\n",
    "#     tooltip='Description',\n",
    "#     icon='check' # (FontAwesome names without the `fa-` prefix)\n",
    "# )\n",
    "# For choices flags, use\n",
    "# widgets.Dropdown(\n",
    "#     options=[('One', 1), ('Two', 2), ('Three', 3)],\n",
    "#     # options=['1', '2', '3'],\n",
    "#     value=2,\n",
    "#     description='Number:',\n",
    "# )\n",
    "# For int flags, use\n",
    "# widgets.IntText(\n",
    "#     value=7,\n",
    "#     description='Any:',\n",
    "#     disabled=False\n",
    "# )\n",
    "# widgets.IntsInput(\n",
    "#     value=[1, 4, 3243],\n",
    "#     min=0,\n",
    "#     max=1000000,\n",
    "#     format='$,d'\n",
    "# )\n",
    "# For float flags, use\n",
    "# widgets.FloatText(\n",
    "#     value=7,\n",
    "#     description='Any:',\n",
    "#     disabled=False\n",
    "# )\n",
    "# For string flags, use\n",
    "# widgets.Text(\n",
    "#     value='Hello World',\n",
    "#     placeholder='Type something',\n",
    "#     description='String:',\n",
    "#     disabled=False\n",
    "# )\n",
    "\n",
    "# Set up the display to show all options for each module\n",
    "# # Accordian display\n",
    "# options_accordion = widgets.Accordion(children=all_module_widgets, titles=module_tags.value)\n",
    "# display(options_accordion)\n",
    "# Tab display\n",
    "options_tab = widgets.Tab()\n",
    "options_tab.children = all_module_widgets\n",
    "options_tab.titles = module_tags.value  # ['align', 'design']\n",
    "display(options_tab)"
   ]
  },
  {
   "cell_type": "code",
   "execution_count": 1,
   "id": "455c9e7e-d08d-4835-b081-0eb509d6a57d",
   "metadata": {
    "tags": []
   },
   "outputs": [],
   "source": [
    "# Format the arguments input from user into parsable command-line like arguments\n",
    "if len(module_tags.value) > 1:\n",
    "    sys.argv = ['protocol']\n",
    "else:\n",
    "    sys.argv = ['protocol', '--module'] + module_tags.value"
   ]
  },
  {
   "cell_type": "code",
   "execution_count": 38,
   "id": "9b106a48-d0c2-46f9-bb0e-70a8e47d6aa9",
   "metadata": {
    "tags": []
   },
   "outputs": [
    {
     "data": {
      "application/vnd.jupyter.widget-view+json": {
       "model_id": "941e42479baf411c9abb82959b7adbc0",
       "version_major": 2,
       "version_minor": 0
      },
      "text/plain": [
       "Button(button_style='success', description='Run protocol', icon='turn-down-left', style=ButtonStyle(), tooltip…"
      ]
     },
     "metadata": {},
     "output_type": "display_data"
    }
   ],
   "source": [
    "run_protocol_button = widgets.Button(\n",
    "    description='Run protocol',\n",
    "    disabled=False,\n",
    "    button_style='success',  # 'success', 'info', 'warning', 'danger' or ''\n",
    "    tooltip='To perform the protocols specified, click this button',\n",
    "    icon='turn-down-left'\n",
    ")\n",
    "run_protocol_button.on_click(app)\n",
    "display(run_protocol_button)"
   ]
  },
  {
   "cell_type": "code",
   "execution_count": 31,
   "id": "40e09941-1222-40d7-ad0b-93925909f8f9",
   "metadata": {},
   "outputs": [],
   "source": [
    "from collections import defaultdict\n",
    "from IPython.display import HTML\n",
    "import ipywidgets\n",
    "from pprint import pprint"
   ]
  },
  {
   "cell_type": "code",
   "execution_count": 32,
   "id": "ce65687a-4458-4d65-95c2-7fad043b61d8",
   "metadata": {
    "tags": []
   },
   "outputs": [
    {
     "data": {
      "text/html": [
       "<ul>\n",
       "<li><b>DescriptionStyle:</b> BoundedFloatText, BoundedIntText, ColorPicker, ColorsInput, DatePicker, DatetimePicker, Dropdown, FloatText, FloatsInput, IntText, IntsInput, NaiveDatetimePicker, Play, RadioButtons, Select, SelectMultiple, TagsInput, TimePicker, Valid</li>\n",
       "<li><b>ButtonStyle:</b> Button, FileUpload</li>\n",
       "<li><b>CheckboxStyle:</b> Checkbox</li>\n",
       "<li><b>TextStyle:</b> Combobox, Password, Text, Textarea</li>\n",
       "<li><b>SliderStyle:</b> FloatLogSlider, FloatRangeSlider, FloatSlider, IntRangeSlider, IntSlider, SelectionRangeSlider, SelectionSlider</li>\n",
       "<li><b>ProgressStyle:</b> FloatProgress, IntProgress</li>\n",
       "<li><b>HTMLStyle:</b> HTML</li>\n",
       "<li><b>HTMLMathStyle:</b> HTMLMath</li>\n",
       "<li><b>LabelStyle:</b> Label</li>\n",
       "<li><b>ToggleButtonStyle:</b> ToggleButton</li>\n",
       "<li><b>ToggleButtonsStyle:</b> ToggleButtons</li></ul>"
      ],
      "text/plain": [
       "<IPython.core.display.HTML object>"
      ]
     },
     "execution_count": 32,
     "metadata": {},
     "output_type": "execute_result"
    }
   ],
   "source": [
    "reverse_lut = defaultdict(set)\n",
    "styles = set()\n",
    "for export_name in dir(ipywidgets.widgets):\n",
    "    export = getattr(ipywidgets.widgets, export_name)\n",
    "    try:\n",
    "        if issubclass(export, ipywidgets.Widget) and 'style' in export.class_trait_names():\n",
    "            reverse_lut[export.style.klass.__name__].add(export.__name__)\n",
    "            styles.add(export.style.klass)\n",
    "    except TypeError:\n",
    "        pass\n",
    "\n",
    "html = '<ul>'\n",
    "for style, widgets_ in reverse_lut.items():\n",
    "    html = f\"{html}\\n<li><b>{style}:</b> {', '.join(sorted(widgets_))}</li>\"\n",
    "html += \"</ul>\"\n",
    "HTML(html)"
   ]
  },
  {
   "cell_type": "code",
   "execution_count": 62,
   "id": "a2911e4b-32e7-4c89-b7be-86718629d103",
   "metadata": {
    "tags": []
   },
   "outputs": [
    {
     "data": {
      "text/html": [
       "<table>\n",
       "<tr><th>Attribute</th><th>LabelStyle</th><th>SliderStyle</th><th>CheckboxStyle</th><th>DescriptionStyle</th><th>HTMLStyle</th><th>ToggleButtonStyle</th><th>ToggleButtonsStyle</th><th>TextStyle</th><th>HTMLMathStyle</th><th>ProgressStyle</th><th>ButtonStyle</th></tr><tr><td>background</td><td>✓</td><td></td><td>✓</td><td></td><td>✓</td><td></td><td></td><td>✓</td><td>✓</td><td></td><td></td></tr><tr><td>font_weight</td><td>✓</td><td></td><td></td><td></td><td></td><td>✓</td><td>✓</td><td></td><td></td><td></td><td>✓</td></tr><tr><td>handle_color</td><td></td><td>✓</td><td></td><td></td><td></td><td></td><td></td><td></td><td></td><td></td><td></td></tr><tr><td>description_width</td><td>✓</td><td>✓</td><td>✓</td><td>✓</td><td>✓</td><td>✓</td><td>✓</td><td>✓</td><td>✓</td><td>✓</td><td></td></tr><tr><td>font_variant</td><td>✓</td><td></td><td></td><td></td><td></td><td>✓</td><td></td><td></td><td></td><td></td><td>✓</td></tr><tr><td>button_width</td><td></td><td></td><td></td><td></td><td></td><td></td><td>✓</td><td></td><td></td><td></td><td></td></tr><tr><td>text_decoration</td><td>✓</td><td></td><td></td><td></td><td></td><td>✓</td><td></td><td></td><td></td><td></td><td>✓</td></tr><tr><td>font_family</td><td>✓</td><td></td><td></td><td></td><td></td><td>✓</td><td></td><td></td><td></td><td></td><td>✓</td></tr><tr><td>font_size</td><td>✓</td><td></td><td></td><td></td><td>✓</td><td>✓</td><td></td><td>✓</td><td>✓</td><td></td><td>✓</td></tr><tr><td>font_style</td><td>✓</td><td></td><td></td><td></td><td></td><td>✓</td><td></td><td></td><td></td><td></td><td>✓</td></tr><tr><td>button_color</td><td></td><td></td><td></td><td></td><td></td><td></td><td></td><td></td><td></td><td></td><td>✓</td></tr><tr><td>bar_color</td><td></td><td></td><td></td><td></td><td></td><td></td><td></td><td></td><td></td><td>✓</td><td></td></tr><tr><td>text_color</td><td>✓</td><td></td><td></td><td></td><td>✓</td><td>✓</td><td></td><td>✓</td><td>✓</td><td></td><td>✓</td></tr></table>"
      ],
      "text/plain": [
       "<IPython.core.display.HTML object>"
      ]
     },
     "execution_count": 62,
     "metadata": {},
     "output_type": "execute_result"
    }
   ],
   "source": [
    "attributes = defaultdict(set)\n",
    "base_traits = set(ipywidgets.Style.class_trait_names())\n",
    "\n",
    "for s in styles:\n",
    "    for t in s.class_trait_names():\n",
    "        if not t.startswith(\"_\") and t not in base_traits:\n",
    "            attributes[s.__name__].add(t)\n",
    "all_attributes = set().union(*attributes.values())\n",
    "\n",
    "html = '<table>\\n'\n",
    "html = f\"{html}<tr><th>Attribute</th>{ ''.join(f'<th>{s}</th>' for s in attributes.keys()) }</tr>\"\n",
    "for a in all_attributes:\n",
    "    html = f\"\"\"{html}<tr><td>{a}</td>{ ''.join(f'<td>{\"✓\" if a in attribs else \"\"}</td>' for attribs in attributes.values()) }</tr>\"\"\"\n",
    "html += \"</table>\"\n",
    "HTML(html)"
   ]
  },
  {
   "cell_type": "code",
   "execution_count": null,
   "id": "927517c5-4d0b-41c7-9648-ab1066733d65",
   "metadata": {},
   "outputs": [],
   "source": []
  }
 ],
 "metadata": {
  "kernelspec": {
   "display_name": "symdesign-dev",
   "language": "python",
   "name": "symdesign-dev"
  },
  "language_info": {
   "codemirror_mode": {
    "name": "ipython",
    "version": 3
   },
   "file_extension": ".py",
   "mimetype": "text/x-python",
   "name": "python",
   "nbconvert_exporter": "python",
   "pygments_lexer": "ipython3",
   "version": "3.9.15"
  }
 },
 "nbformat": 4,
 "nbformat_minor": 5
}
