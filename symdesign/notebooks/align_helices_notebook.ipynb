{
 "cells": [
  {
   "cell_type": "code",
   "execution_count": 86,
   "id": "aa5f098b-64d1-4be8-9109-e8e61134b768",
   "metadata": {
    "tags": []
   },
   "outputs": [],
   "source": [
    "import argparse\n",
    "from copy import copy\n",
    "import inspect\n",
    "import os.path\n",
    "import sys\n",
    "\n",
    "import ipywidgets as widgets\n",
    "\n",
    "from symdesign import flags, utils\n",
    "from symdesign.SymDesign import app"
   ]
  },
  {
   "cell_type": "code",
   "execution_count": 6,
   "id": "ac392bb8-2c3d-4920-8500-5007826c1a37",
   "metadata": {
    "tags": []
   },
   "outputs": [
    {
     "name": "stdout",
     "output_type": "stream",
     "text": [
      "PYTHONPATH: Undefined variable.\n"
     ]
    }
   ],
   "source": [
    "# %load_ext shell\n",
    "!echo $PYTHONPATH"
   ]
  },
  {
   "cell_type": "code",
   "execution_count": 2,
   "id": "591df0cb-c8f0-4fd8-8b31-a9c8bd028b12",
   "metadata": {
    "tags": []
   },
   "outputs": [
    {
     "data": {
      "text/plain": [
       "'/home/kmeador/symdesign'"
      ]
     },
     "execution_count": 2,
     "metadata": {},
     "output_type": "execute_result"
    }
   ],
   "source": [
    "os.environ['PYTHONPATH']"
   ]
  },
  {
   "cell_type": "code",
   "execution_count": 3,
   "id": "a148f0ad-3f57-4e21-b74c-b7b6275d4e50",
   "metadata": {
    "tags": []
   },
   "outputs": [],
   "source": [
    "%load_ext autoreload\n",
    "%autoreload 2"
   ]
  },
  {
   "cell_type": "code",
   "execution_count": 4,
   "id": "79d131cd-48ba-4e1f-ae50-87a1d1158e05",
   "metadata": {
    "tags": []
   },
   "outputs": [
    {
     "data": {
      "application/vnd.jupyter.widget-view+json": {
       "model_id": "c7241b8cdbed4468b3465b354af354cc",
       "version_major": 2,
       "version_minor": 0
      },
      "text/plain": [
       "VBox(children=(Label(value='Please input the module(s) you would like to include with this job'), TagsInput(va…"
      ]
     },
     "metadata": {},
     "output_type": "display_data"
    }
   ],
   "source": [
    "def get_class_that_defined_method(meth):\n",
    "    \"\"\"Where meth is a bound method\"\"\"\n",
    "    if inspect.ismethod(meth):\n",
    "        for cls in inspect.getmro(meth.__self__.__class__):\n",
    "            if meth.__name__ in cls.__dict__:\n",
    "                return cls\n",
    "    return None\n",
    "\n",
    "\n",
    "# All modules\n",
    "# flags.available_modules\n",
    "notebook_allowed_modules = [\n",
    "    flags.align_helices,\n",
    "    flags.analysis,\n",
    "    flags.check_clashes,\n",
    "    flags.cluster_poses,\n",
    "    flags.design,\n",
    "    flags.expand_asu,\n",
    "    flags.generate_fragments,\n",
    "    flags.helix_bending,\n",
    "    flags.protocol,\n",
    "    flags.rename_chains,\n",
    "    flags.select_designs,\n",
    "    flags.select_poses,\n",
    "    flags.select_designs,\n",
    "]\n",
    "module_help = widgets.Label(value='Please input the module(s) you would like to include with this job')\n",
    "module_tags = widgets.TagsInput(\n",
    "    value=[flags.align_helices],\n",
    "    allowed_tags=notebook_allowed_modules,\n",
    "    allow_duplicates=False\n",
    ")\n",
    "module_input = widgets.VBox([module_help, module_tags])\n",
    "display(module_input)"
   ]
  },
  {
   "cell_type": "code",
   "execution_count": 82,
   "id": "ad4005af-c166-48e0-a69e-5bc251dd901d",
   "metadata": {
    "tags": []
   },
   "outputs": [
    {
     "name": "stdout",
     "output_type": "stream",
     "text": [
      "--target-termini is None, but has nargs\n",
      "_StoreAction(option_strings=['--target-termini'], dest='target_termini', nargs='*', const=None, default=None, type=<method 'lower' of 'str' objects>, choices=('n', 'c'), required=False, help=\"If particular termini are desired, specify with 'n' and/or 'c'\", metavar=None)\n",
      "(None, 'n', 'c')\n",
      "Dropdown(options=(None, 'n', 'c'), tooltip=\"If particular termini are desired, specify with 'n' and/or 'c'\", value=None)\n",
      "('consensus', 'proteinmpnn', 'rosetta')\n",
      "Dropdown(index=1, options=('consensus', 'proteinmpnn', 'rosetta'), tooltip=\"Which design method should be used?\\nChoices=('consensus', 'proteinmpnn', 'rosetta')\\nDefault=proteinmpnn\", value='proteinmpnn')\n",
      "['v_48_002', 'v_48_010', 'v_48_020', 'v_48_030']\n",
      "Dropdown(index=2, options=('v_48_002', 'v_48_010', 'v_48_020', 'v_48_030'), tooltip=\"The name of the model to use for proteinmpnn design/scoring\\nwhere the model name takes the form v_X_Y, with X indicating\\nThe number of neighbors, and Y indicating the training noise\\nChoices=['v_48_002', 'v_48_010', 'v_48_020', 'v_48_030']\\nDefault=v_48_020\", value='v_48_020')\n",
      "[0.1]\n",
      "['0.1']\n",
      "('rank', 'normalize')\n",
      "Dropdown(index=1, options=('rank', 'normalize'), tooltip=\"How to standardize metrics during selection weighting\\nChoices=('rank', 'normalize')\\nDefault=normalize\", value='normalize')\n"
     ]
    },
    {
     "data": {
      "application/vnd.jupyter.widget-view+json": {
       "model_id": "c40a7475da164ab597ed4db07d891a72",
       "version_major": 2,
       "version_minor": 0
      },
      "text/plain": [
       "Box(children=(Label(value='Fill out a form for each module to enable various job options'), Tab(children=(Box(…"
      ]
     },
     "metadata": {},
     "output_type": "display_data"
    }
   ],
   "source": [
    "choices_widget = widgets.Dropdown\n",
    "multiple_text = widgets.TagsInput\n",
    "single_text = widgets.Text\n",
    "boolean_widget = widgets.Checkbox  # widgets.ToggleButton\n",
    "\n",
    "def process_module_arg_to_widget(arg, widget_kwargs):\n",
    "    if arg.nargs:\n",
    "        widget = multiple_text(**widget_kwargs)\n",
    "    else:\n",
    "        if arg.metavar:\n",
    "            placeholder = arg.metavar\n",
    "        else:\n",
    "            placeholder = ''  # arg.default\n",
    "        widget = single_text(**widget_kwargs, placeholder=placeholder)\n",
    "\n",
    "    return widget\n",
    "\n",
    "# Use with [options-inputs row, ...] formating\n",
    "row_layout = widgets.Layout(display='flex',\n",
    "                            flex_flow='row', \n",
    "                            # justify_content='space-between',\n",
    "                            align_content='stretch',\n",
    "                            align_items='stretch'\n",
    "                            # border='solid',\n",
    "                            # width='100%'\n",
    "                           )\n",
    "box_layout = widgets.Layout(display='flex',\n",
    "                            flex_flow='column', \n",
    "                            align_items='stretch', \n",
    "                            border='solid',\n",
    "                            width='100%')\n",
    "# # Use with options column / inputs column formating\n",
    "# row_layout = widgets.Layout(display='flex',\n",
    "#                             flex_flow='column', \n",
    "#                             justify_content='center',\n",
    "#                             align_content='stretch',\n",
    "#                             align_items='stretch'\n",
    "#                             # border='solid',\n",
    "#                             # width='100%'\n",
    "#                            )\n",
    "# description_row_layout = widgets.Layout(display='flex',\n",
    "#                             flex_flow='column', \n",
    "#                             justify_content='center',\n",
    "#                             align_content='flex-end',\n",
    "#                             align_items='flex-end',\n",
    "#                             # border='solid',\n",
    "#                             width='100%'\n",
    "#                            )\n",
    "# box_layout = widgets.Layout(display='flex',\n",
    "#                             flex_flow='row', \n",
    "#                             align_items='stretch', \n",
    "#                             border='solid',\n",
    "#                             width='100%')\n",
    "description_layout = widgets.Layout(display='flex',\n",
    "                                    justify_content='flex-end',\n",
    "                                    width='25%')\n",
    "module_use_description = widgets.Label(value='Fill out a form for each module to enable various job options')\n",
    "module_help = widgets.HTML(value='<b>Module description:</b>')\n",
    "required_widget = widgets.Valid  # (value=False, description=None)\n",
    "\n",
    "# Add each requested as its own widget, formatting module arguments\n",
    "all_module_widgets = {}  # widgets.IntSlider(), widgets.Text()]\n",
    "# for group in parser._action_groups:\n",
    "for group in flags.argparsers[flags.parser_entire]._action_groups:\n",
    "    for arg in group._group_actions:\n",
    "        if isinstance(arg, argparse._SubParsersAction):\n",
    "            for module, subparser in arg.choices.items():\n",
    "                # if module in module_tags.value:\n",
    "                try:\n",
    "                    module_index = module_tags.value.index(module)\n",
    "                except ValueError:\n",
    "                    continue\n",
    "                else:\n",
    "                    \n",
    "                    # module_description = widgets.Label(value=subparser.description)\n",
    "                    module_description = widgets.HTML(value=subparser.description)\n",
    "                    \n",
    "                    module_widgets = [module_help, module_description]\n",
    "                    # # Use with options column / inputs column formating\n",
    "                    # module_widgets = [module_description]\n",
    "                    # description_widgets = [module_help]\n",
    "                    for group in subparser._action_groups:\n",
    "                        # These are the processed module arguments\n",
    "                        for module_arg in group._group_actions:\n",
    "                            # description = f'--{module_arg.dest}'\n",
    "                            # print(module_arg)\n",
    "                            # help = module_arg.help\n",
    "                            choices = module_arg.choices\n",
    "                            required = module_arg.required\n",
    "                            if required:\n",
    "                                print('Required', module_arg.option_strings[-1])\n",
    "                            type_ = module_arg.type\n",
    "                            \n",
    "                            if module_arg.default is None:\n",
    "                                if module_arg.nargs:\n",
    "                                    print(module_arg.option_strings[-1], 'is None, but has nargs')\n",
    "                                    module_value = None  # [] # None]\n",
    "                                    print(module_arg)\n",
    "                                    # choices = none_tuple + copy(choices)\n",
    "                                else:\n",
    "                                #     format_widget = lambda widget: widget\n",
    "                                    module_value = module_arg.default\n",
    "                            elif isinstance(module_arg.default, bool):\n",
    "                                module_value = module_arg.default\n",
    "                            elif isinstance(module_arg.default, (int, float)):\n",
    "                                module_value = str(module_arg.default)\n",
    "                            else:\n",
    "                                module_value = module_arg.default\n",
    "                            \n",
    "                            description = module_arg.option_strings[-1]\n",
    "                            tooltip = module_arg.help % vars(module_arg)\n",
    "                            widget_kwargs = dict(value=module_value,\n",
    "                                                 # description=module_arg.option_strings[-1],\n",
    "                                                 tooltip=tooltip)\n",
    "                            # except TypeError as error:\n",
    "                                # print(error)\n",
    "                                # input(module_arg.help)\n",
    "                            if isinstance(module_arg, (argparse._StoreTrueAction, argparse._StoreFalseAction,\n",
    "                                                       argparse.BooleanOptionalAction)):  # .action in boolean_actions:\n",
    "                                if isinstance(module_arg, argparse.BooleanOptionalAction):\n",
    "                                    # Swap the \"--no-\" prefixed flag for the typical prefix\n",
    "                                    # widget_kwargs.pop('description')\n",
    "                                    # widget_kwargs['description'] = module_arg.option_strings[-2]\n",
    "                                    description = module_arg.option_strings[-2]\n",
    "                                    \n",
    "                                # widget = boolean_widget(description=description, **widget_kwargs)  # , tooltip=help)\n",
    "                                # Using the Checkbox\n",
    "                                widget = boolean_widget(indent=False, **widget_kwargs)\n",
    "                                # widget = widgets.Box([widgets.Label(value=description, tooltip=tooltip, layout=description_layout),\n",
    "                                #                       widget], layout=row_layout)\n",
    "                            elif isinstance(module_arg, argparse._StoreAction):\n",
    "                                if choices:\n",
    "                                    if module_arg.default not in choices:\n",
    "                                        # When there is no default provided\n",
    "                                        choices_ = (module_arg.default, *choices)\n",
    "                                    else:\n",
    "                                        choices_ = choices\n",
    "                                    print(choices_)\n",
    "                                    widget = choices_widget(**widget_kwargs, options=choices_)\n",
    "                                    print(widget)\n",
    "                                elif type_ is None or get_class_that_defined_method(type_) == str:\n",
    "                                    # These are processed as strings\n",
    "                                    widget = process_module_arg_to_widget(module_arg, widget_kwargs)\n",
    "                                    # if module_arg.nargs:\n",
    "                                    #     widget = multiple_text(**widget_kwargs)\n",
    "                                    # else:\n",
    "                                    #     if module_arg.metavar:\n",
    "                                    #         placeholder = module_arg.metavar\n",
    "                                    #     else:\n",
    "                                    #         placeholder = ''\n",
    "                                    #     widget = single_text(**widget_kwargs, placeholder=placeholder)\n",
    "                                elif type_ == int:\n",
    "                                    widget = process_module_arg_to_widget(module_arg, widget_kwargs)\n",
    "                                    # if module_arg.nargs:\n",
    "                                    #     # There are currently none of these\n",
    "                                    #     widget = widgets.IntsInput(**widget_kwargs)\n",
    "                                    # else:\n",
    "                                    #     widget = widgets.IntText(**widget_kwargs)\n",
    "                                elif type_ == float:\n",
    "                                    widget = process_module_arg_to_widget(module_arg, widget_kwargs)\n",
    "                                    # if module_arg.nargs:\n",
    "                                    #     # There are currently none of these\n",
    "                                    #     widget = widgets.FloatsInput(**widget_kwargs)\n",
    "                                    # else:\n",
    "                                    #     widget = widgets.FloatText(**widget_kwargs)\n",
    "                                    # widget = widgets.HBox([widget, widgets.Label(value=module_arg.metavar)])\n",
    "                                elif type_ == os.path.abspath:\n",
    "                                    widget = process_module_arg_to_widget(module_arg, widget_kwargs)\n",
    "                                    # if module_arg.nargs:\n",
    "                                    #     # There are currently none of these\n",
    "                                    #     widget = multiple_text(**widget_kwargs, placeholder=module_arg.metavar)\n",
    "                                    # else:\n",
    "                                    #     if module_arg.metavar:\n",
    "                                    #         placeholder = module_arg.metavar\n",
    "                                    #     else:\n",
    "                                    #         placeholder = ''\n",
    "                                    #     widget = single_text(**widget_kwargs, placeholder=placeholder)\n",
    "                                # Custom types\n",
    "                                elif type_ == flags.temp_gt0:\n",
    "                                    print(widget_kwargs['value'])\n",
    "                                    widget_kwargs['value'] = [str(val) for val in widget_kwargs['value']]\n",
    "                                    print(widget_kwargs['value'])\n",
    "                                    widget = process_module_arg_to_widget(module_arg, widget_kwargs)\n",
    "                                    # widget = widgets.FloatsInput(**widget_kwargs)\n",
    "                                \n",
    "                                # widgets.HBox([widget, widgets.Label(value=module_arg.help)])\n",
    "                                # widget = widgets.HBox([widgets.Label(value=widget_kwargs['description']), widget])\n",
    "                                # widget = widgets.HBox([widgets.Label(value=description), widget])\n",
    "                                # widget = widgets.Box([widgets.Label(value=description, tooltip=tooltip, layout=description_layout),\n",
    "                                #                       widget], layout=row_layout)\n",
    "                            else:\n",
    "                                continue\n",
    "\n",
    "                            # DEBUG\n",
    "                            # if 'pdb-code' in module_arg.option_strings[-1]:\n",
    "                            #     print(module_arg)\n",
    "                            #     print(module_arg.option_strings[-1])\n",
    "                            #     print(widget_kwargs)\n",
    "                            #     print(widget)\n",
    "                            #     display(widget)\n",
    "                            desc_widget = widgets.Label(value=description, tooltip=tooltip, layout=description_layout)\n",
    "                            # Add the module widgets to all widgets\n",
    "                            # Use with [options-inputs row, ...] formating\n",
    "                            widget = widgets.Box([desc_widget, widget], layout=row_layout)\n",
    "                            module_widgets.append(widget)\n",
    "                            # # Use with options column / inputs column formating\n",
    "                            # description_widgets.append(desc_widget)\n",
    "                            # module_widgets.append(widget)\n",
    "                    \n",
    "                    # Used for descriptions in each widget rather than an HBox description\n",
    "                    # max_description_length = 0\n",
    "                    # for widget in module_widgets:\n",
    "                    #     if len(widget.description) > max_description_length:\n",
    "                    #         max_description_length = len(widget.description)\n",
    "                    #         print(max_description_length)\n",
    "                    #         print(widget.style)\n",
    "                    # module_layout = {'description_width': f'{max_description_length * 6}px'}\n",
    "                    # print(max_description_length * 5)\n",
    "                    # for widget in module_widgets:\n",
    "                    #     widget.style = module_layout\n",
    "\n",
    "                    module_widget = widgets.Box(children=module_widgets, layout=box_layout)\n",
    "                    # # Use with options column / inputs column formating\n",
    "                    # description_column = widgets.Box(children=description_widgets, layout=description_row_layout)\n",
    "                    # module_column = widgets.Box(children=module_widgets, layout=row_layout)\n",
    "                    # module_widget = widgets.Box(children=[description_column, module_column])  # , layout=box_layout)\n",
    "\n",
    "                    # Add the module widgets to all widgets\n",
    "                    # all_module_widgets.append(widgets.VBox(module_widgets))\n",
    "                    # all_module_widgets.append(module_widget)\n",
    "                    all_module_widgets[module_index] = module_widget\n",
    "\n",
    "                    \n",
    "# For formatting the help, use\n",
    "# widgets.HBox([WIDGET, widgets.Label(value=\"The $m$ in $E=mc^2$:\")])\n",
    "# for boolean flags, use\n",
    "# widgets.ToggleButton(\n",
    "#     value=False,\n",
    "#     description='Click me',\n",
    "#     disabled=False,\n",
    "#     button_style='', # 'success', 'info', 'warning', 'danger' or ''\n",
    "#     tooltip='Description',\n",
    "#     icon='check' # (FontAwesome names without the `fa-` prefix)\n",
    "# )\n",
    "# For choices flags, use\n",
    "# widgets.Dropdown(\n",
    "#     options=[('One', 1), ('Two', 2), ('Three', 3)],\n",
    "#     # options=['1', '2', '3'],\n",
    "#     value=2,\n",
    "#     description='Number:',\n",
    "# )\n",
    "# For int flags, use\n",
    "# widgets.IntText(\n",
    "#     value=7,\n",
    "#     description='Any:',\n",
    "#     disabled=False\n",
    "# )\n",
    "# widgets.IntsInput(\n",
    "#     value=[1, 4, 3243],\n",
    "#     min=0,\n",
    "#     max=1000000,\n",
    "#     format='$,d'\n",
    "# )\n",
    "# For float flags, use\n",
    "# widgets.FloatText(\n",
    "#     value=7,\n",
    "#     description='Any:',\n",
    "#     disabled=False\n",
    "# )\n",
    "# For string flags, use\n",
    "# widgets.Text(\n",
    "#     value='Hello World',\n",
    "#     placeholder='Type something',\n",
    "#     description='String:',\n",
    "#     disabled=False\n",
    "# )\n",
    "\n",
    "# Set up the display to show all options for each module\n",
    "# # Accordian display\n",
    "# options_accordion = widgets.Accordion(children=all_module_widgets, titles=module_tags.value)\n",
    "# display(options_accordion)\n",
    "# Tab display\n",
    "module_options_tab = widgets.Tab()\n",
    "module_options_tab.children = [all_module_widgets[idx] for idx in range(len(module_tags.value))]\n",
    "module_options_tab.titles = module_tags.value  # ['align', 'design']\n",
    "module_box_layout = widgets.Layout(display='flex',\n",
    "                            flex_flow='column', \n",
    "                            align_items='stretch', \n",
    "                            border='solid',\n",
    "                            width='50%')\n",
    "module_box = widgets.Box([module_use_description, module_options_tab], layout=module_box_layout)  # widgets.Layout(display='flex', flex_flow='column'))\n",
    "display(module_box)"
   ]
  },
  {
   "cell_type": "code",
   "execution_count": 58,
   "id": "7cc74401-a7e6-441b-bbc8-9d1756fa0788",
   "metadata": {
    "tags": []
   },
   "outputs": [],
   "source": [
    "out = widgets.Output(layout={'border': '1px solid black'})"
   ]
  },
  {
   "cell_type": "code",
   "execution_count": 91,
   "id": "b78591cb-c070-4b69-918b-0cc907be76b6",
   "metadata": {
    "tags": []
   },
   "outputs": [],
   "source": [
    "def parse_user_input():\n",
    "    \"\"\"Format the arguments input from user into parsable command-line like arguments\"\"\"\n",
    "    if len(module_tags.value) > 1:\n",
    "        valid_arguments = [['symdesign', 'protocol', '--modules', *module_tags.value]]\n",
    "    else:\n",
    "        valid_arguments = ['symdesign', *module_tags.value]\n",
    "\n",
    "    for module_widget_flag_argument in module_options_tab.children:\n",
    "        for flag_argument in module_widget_flag_argument.children:\n",
    "            if getattr(flag_argument, 'children', None):\n",
    "                flag, argument = flag_argument.children\n",
    "                if argument.value:\n",
    "                    if isinstance(argument.value, bool):\n",
    "                        argument = [flag.value]\n",
    "                    elif isinstance(argument.value, list):\n",
    "                        argument = [flag.value, *argument.value]\n",
    "                    else:\n",
    "                        argument = [flag.value, argument.value]\n",
    "                    valid_arguments.append(argument)\n",
    "                    # print(valid_arguments[-1])\n",
    "\n",
    "    sys.argv = []\n",
    "    for arg in valid_arguments:\n",
    "        # sys.argv = valid_arguments\n",
    "        sys.argv.extend(arg)\n",
    "\n",
    "    # # Debugging\n",
    "    # sys.argv.append('--help')\n",
    "    # print(f'Running with the user arguments:\\n{sys.argv}')\n",
    "\n",
    "@out.capture(clear_output=True)\n",
    "def run_app(*args):\n",
    "    parse_user_input()\n",
    "    try:\n",
    "        app()\n",
    "    except SystemExit:\n",
    "        return\n",
    "    except utils.SymDesignException as error:\n",
    "        print(error)"
   ]
  },
  {
   "cell_type": "code",
   "execution_count": 94,
   "id": "9b106a48-d0c2-46f9-bb0e-70a8e47d6aa9",
   "metadata": {
    "tags": []
   },
   "outputs": [
    {
     "data": {
      "application/vnd.jupyter.widget-view+json": {
       "model_id": "70fbdf2d86da4a569bdf90e7bdc44fd7",
       "version_major": 2,
       "version_minor": 0
      },
      "text/plain": [
       "Button(button_style='success', description='Run protocol', icon='turn-down-left', style=ButtonStyle(), tooltip…"
      ]
     },
     "metadata": {},
     "output_type": "display_data"
    }
   ],
   "source": [
    "run_protocol_button = widgets.Button(\n",
    "    description='Run protocol',\n",
    "    disabled=False,\n",
    "    button_style='success',  # 'success', 'info', 'warning', 'danger' or ''\n",
    "    tooltip='To perform the protocols specified, click this button',\n",
    "    icon='turn-down-left'\n",
    ")\n",
    "run_protocol_button.on_click(run_app)\n",
    "display(run_protocol_button)"
   ]
  },
  {
   "cell_type": "code",
   "execution_count": 60,
   "id": "29c92925-0250-4828-b351-4d58ef890b71",
   "metadata": {
    "tags": []
   },
   "outputs": [
    {
     "data": {
      "application/vnd.jupyter.widget-view+json": {
       "model_id": "f26e4fd378f94f11af1ab5742f48a416",
       "version_major": 2,
       "version_minor": 0
      },
      "text/plain": [
       "Output(layout=Layout(border_bottom='1px solid black', border_left='1px solid black', border_right='1px solid b…"
      ]
     },
     "execution_count": 60,
     "metadata": {},
     "output_type": "execute_result"
    }
   ],
   "source": [
    "out"
   ]
  },
  {
   "cell_type": "code",
   "execution_count": 31,
   "id": "40e09941-1222-40d7-ad0b-93925909f8f9",
   "metadata": {
    "jupyter": {
     "source_hidden": true
    },
    "tags": []
   },
   "outputs": [],
   "source": [
    "from collections import defaultdict\n",
    "from IPython.display import HTML\n",
    "import ipywidgets\n",
    "from pprint import pprint"
   ]
  },
  {
   "cell_type": "code",
   "execution_count": 32,
   "id": "ce65687a-4458-4d65-95c2-7fad043b61d8",
   "metadata": {
    "collapsed": true,
    "jupyter": {
     "outputs_hidden": true,
     "source_hidden": true
    },
    "tags": []
   },
   "outputs": [
    {
     "data": {
      "text/html": [
       "<ul>\n",
       "<li><b>DescriptionStyle:</b> BoundedFloatText, BoundedIntText, ColorPicker, ColorsInput, DatePicker, DatetimePicker, Dropdown, FloatText, FloatsInput, IntText, IntsInput, NaiveDatetimePicker, Play, RadioButtons, Select, SelectMultiple, TagsInput, TimePicker, Valid</li>\n",
       "<li><b>ButtonStyle:</b> Button, FileUpload</li>\n",
       "<li><b>CheckboxStyle:</b> Checkbox</li>\n",
       "<li><b>TextStyle:</b> Combobox, Password, Text, Textarea</li>\n",
       "<li><b>SliderStyle:</b> FloatLogSlider, FloatRangeSlider, FloatSlider, IntRangeSlider, IntSlider, SelectionRangeSlider, SelectionSlider</li>\n",
       "<li><b>ProgressStyle:</b> FloatProgress, IntProgress</li>\n",
       "<li><b>HTMLStyle:</b> HTML</li>\n",
       "<li><b>HTMLMathStyle:</b> HTMLMath</li>\n",
       "<li><b>LabelStyle:</b> Label</li>\n",
       "<li><b>ToggleButtonStyle:</b> ToggleButton</li>\n",
       "<li><b>ToggleButtonsStyle:</b> ToggleButtons</li></ul>"
      ],
      "text/plain": [
       "<IPython.core.display.HTML object>"
      ]
     },
     "execution_count": 32,
     "metadata": {},
     "output_type": "execute_result"
    }
   ],
   "source": [
    "reverse_lut = defaultdict(set)\n",
    "styles = set()\n",
    "for export_name in dir(ipywidgets.widgets):\n",
    "    export = getattr(ipywidgets.widgets, export_name)\n",
    "    try:\n",
    "        if issubclass(export, ipywidgets.Widget) and 'style' in export.class_trait_names():\n",
    "            reverse_lut[export.style.klass.__name__].add(export.__name__)\n",
    "            styles.add(export.style.klass)\n",
    "    except TypeError:\n",
    "        pass\n",
    "\n",
    "html = '<ul>'\n",
    "for style, widgets_ in reverse_lut.items():\n",
    "    html = f\"{html}\\n<li><b>{style}:</b> {', '.join(sorted(widgets_))}</li>\"\n",
    "html += \"</ul>\"\n",
    "HTML(html)"
   ]
  },
  {
   "cell_type": "code",
   "execution_count": 62,
   "id": "a2911e4b-32e7-4c89-b7be-86718629d103",
   "metadata": {
    "collapsed": true,
    "jupyter": {
     "outputs_hidden": true,
     "source_hidden": true
    },
    "tags": []
   },
   "outputs": [
    {
     "data": {
      "text/html": [
       "<table>\n",
       "<tr><th>Attribute</th><th>LabelStyle</th><th>SliderStyle</th><th>CheckboxStyle</th><th>DescriptionStyle</th><th>HTMLStyle</th><th>ToggleButtonStyle</th><th>ToggleButtonsStyle</th><th>TextStyle</th><th>HTMLMathStyle</th><th>ProgressStyle</th><th>ButtonStyle</th></tr><tr><td>background</td><td>✓</td><td></td><td>✓</td><td></td><td>✓</td><td></td><td></td><td>✓</td><td>✓</td><td></td><td></td></tr><tr><td>font_weight</td><td>✓</td><td></td><td></td><td></td><td></td><td>✓</td><td>✓</td><td></td><td></td><td></td><td>✓</td></tr><tr><td>handle_color</td><td></td><td>✓</td><td></td><td></td><td></td><td></td><td></td><td></td><td></td><td></td><td></td></tr><tr><td>description_width</td><td>✓</td><td>✓</td><td>✓</td><td>✓</td><td>✓</td><td>✓</td><td>✓</td><td>✓</td><td>✓</td><td>✓</td><td></td></tr><tr><td>font_variant</td><td>✓</td><td></td><td></td><td></td><td></td><td>✓</td><td></td><td></td><td></td><td></td><td>✓</td></tr><tr><td>button_width</td><td></td><td></td><td></td><td></td><td></td><td></td><td>✓</td><td></td><td></td><td></td><td></td></tr><tr><td>text_decoration</td><td>✓</td><td></td><td></td><td></td><td></td><td>✓</td><td></td><td></td><td></td><td></td><td>✓</td></tr><tr><td>font_family</td><td>✓</td><td></td><td></td><td></td><td></td><td>✓</td><td></td><td></td><td></td><td></td><td>✓</td></tr><tr><td>font_size</td><td>✓</td><td></td><td></td><td></td><td>✓</td><td>✓</td><td></td><td>✓</td><td>✓</td><td></td><td>✓</td></tr><tr><td>font_style</td><td>✓</td><td></td><td></td><td></td><td></td><td>✓</td><td></td><td></td><td></td><td></td><td>✓</td></tr><tr><td>button_color</td><td></td><td></td><td></td><td></td><td></td><td></td><td></td><td></td><td></td><td></td><td>✓</td></tr><tr><td>bar_color</td><td></td><td></td><td></td><td></td><td></td><td></td><td></td><td></td><td></td><td>✓</td><td></td></tr><tr><td>text_color</td><td>✓</td><td></td><td></td><td></td><td>✓</td><td>✓</td><td></td><td>✓</td><td>✓</td><td></td><td>✓</td></tr></table>"
      ],
      "text/plain": [
       "<IPython.core.display.HTML object>"
      ]
     },
     "execution_count": 62,
     "metadata": {},
     "output_type": "execute_result"
    }
   ],
   "source": [
    "attributes = defaultdict(set)\n",
    "base_traits = set(ipywidgets.Style.class_trait_names())\n",
    "\n",
    "for s in styles:\n",
    "    for t in s.class_trait_names():\n",
    "        if not t.startswith(\"_\") and t not in base_traits:\n",
    "            attributes[s.__name__].add(t)\n",
    "all_attributes = set().union(*attributes.values())\n",
    "\n",
    "html = '<table>\\n'\n",
    "html = f\"{html}<tr><th>Attribute</th>{ ''.join(f'<th>{s}</th>' for s in attributes.keys()) }</tr>\"\n",
    "for a in all_attributes:\n",
    "    html = f\"\"\"{html}<tr><td>{a}</td>{ ''.join(f'<td>{\"✓\" if a in attribs else \"\"}</td>' for attribs in attributes.values()) }</tr>\"\"\"\n",
    "html += \"</table>\"\n",
    "HTML(html)"
   ]
  },
  {
   "cell_type": "code",
   "execution_count": null,
   "id": "927517c5-4d0b-41c7-9648-ab1066733d65",
   "metadata": {},
   "outputs": [],
   "source": []
  }
 ],
 "metadata": {
  "kernelspec": {
   "display_name": "symdesign-dev",
   "language": "python",
   "name": "symdesign-dev"
  },
  "language_info": {
   "codemirror_mode": {
    "name": "ipython",
    "version": 3
   },
   "file_extension": ".py",
   "mimetype": "text/x-python",
   "name": "python",
   "nbconvert_exporter": "python",
   "pygments_lexer": "ipython3",
   "version": "3.9.15"
  }
 },
 "nbformat": 4,
 "nbformat_minor": 5
}
