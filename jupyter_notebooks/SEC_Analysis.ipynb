{
 "cells": [
  {
   "cell_type": "code",
   "execution_count": 2,
   "id": "53cab70c-9915-49e3-ac31-30ef531b548b",
   "metadata": {},
   "outputs": [],
   "source": [
    "import os\n",
    "from math import ceil\n",
    "from itertools import repeat\n",
    "import pandas as pd\n",
    "import numpy as np\n",
    "import matplotlib.pyplot as plt\n",
    "pd.set_option('display.max_columns', None)  # if you need to view less rows, comment\n",
    "# pd.set_option('display.max_rows', None)  # if you need to view more rows, uncomment\n",
    "idx_slice = pd.IndexSlice"
   ]
  },
  {
   "cell_type": "markdown",
   "id": "73c1103c-b05e-4d79-a8e9-50d8d657a0be",
   "metadata": {},
   "source": [
    "## Collect chromatograms"
   ]
  },
  {
   "cell_type": "markdown",
   "id": "a7d91fa8-a6ba-4606-8382-13a1dd54e2a2",
   "metadata": {},
   "source": [
    "from a directory"
   ]
  },
  {
   "cell_type": "code",
   "execution_count": 7,
   "id": "7ee2d75a-e3a5-4198-8b7b-f9b1d018e811",
   "metadata": {},
   "outputs": [],
   "source": [
    "file_directory = '/home/kmeador/SEC'"
   ]
  },
  {
   "cell_type": "code",
   "execution_count": null,
   "id": "f05c037e-3b4d-472c-8cb2-108fcefdcdb3",
   "metadata": {},
   "outputs": [],
   "source": [
    "analysis_files = [file for file in os.listdir(file_directory) if file.endswith('.csv')]"
   ]
  },
  {
   "cell_type": "markdown",
   "id": "3f78d51d-3284-43eb-ae40-7275b39dbbaa",
   "metadata": {},
   "source": [
    "from file(s)"
   ]
  },
  {
   "cell_type": "code",
   "execution_count": 7,
   "id": "423639e6-9953-4f12-9e3a-63924001716c",
   "metadata": {},
   "outputs": [],
   "source": [
    "file_location = '/home/kmeador/SEC' # escher\n",
    "# file_location = '/home/kylemeador' # powerpanda\n",
    "file_directories = repeat(file_location)\n",
    "file_names = ['123021_T33_G8_F3_F9_450ul_strait_elution',\n",
    "#               '',\n",
    "             ]"
   ]
  },
  {
   "cell_type": "code",
   "execution_count": 8,
   "id": "3b792d27-4aad-4eee-8a1a-f4bb2a3bbf1f",
   "metadata": {},
   "outputs": [],
   "source": [
    "# extension = 'csv'\n",
    "# analysis_file = os.path.join(file_location, '%s.%s' % (file_name, extension))"
   ]
  },
  {
   "cell_type": "code",
   "execution_count": 8,
   "id": "29ede2ef-b039-4479-8b28-0be02b0f3f45",
   "metadata": {},
   "outputs": [],
   "source": [
    "def create_file_path(file_name, base_directory=None, extension='.csv')\n",
    "    return os.path.join(base_directory if base_directory else '', '%s%s' % (file_name, extension))"
   ]
  },
  {
   "cell_type": "code",
   "execution_count": null,
   "id": "6ac12bdf-43fa-436f-bf3f-ed3f81057da6",
   "metadata": {},
   "outputs": [],
   "source": [
    "analysis_files = list(map(create_file_path, file_names, file_directories))"
   ]
  },
  {
   "cell_type": "markdown",
   "id": "1452c5ed-f1a1-41ce-953e-cebc1c0e1287",
   "metadata": {},
   "source": [
    "## Check DataFrame columns and values"
   ]
  },
  {
   "cell_type": "markdown",
   "id": "3649ff80-7516-4012-8168-bbb0ef50c17b",
   "metadata": {},
   "source": [
    "Ensure that the csv file has properly formatted headers. If there are commas in your chromatogram name, the export and load process may be corrupted."
   ]
  },
  {
   "cell_type": "markdown",
   "id": "4be67f15-0628-4664-8c46-9aeb93a78788",
   "metadata": {},
   "source": [
    "#### for datasets that are exported with volumes for every measurement"
   ]
  },
  {
   "cell_type": "code",
   "execution_count": 107,
   "id": "3ec34ded-f5e5-45b4-a1e0-7bffa225b47f",
   "metadata": {},
   "outputs": [],
   "source": [
    "volume_is_index = False\n",
    "# sec_data_df = pd.read_csv(analysis_file, header=[0,1])\n",
    "sec_data_dfs = [pd.read_csv(analysis_file, header=[0,1]) for analysis file in analysis_files]"
   ]
  },
  {
   "cell_type": "markdown",
   "id": "9b49af0d-3ad7-46bf-bc7d-d8ed1232fbd5",
   "metadata": {},
   "source": [
    "#### For datasets that are exported with normalized volumes (every measurement is indexed to the same volume)"
   ]
  },
  {
   "cell_type": "code",
   "execution_count": 107,
   "id": "67ccd418-98f1-4542-91e3-5e9433aab3ac",
   "metadata": {},
   "outputs": [],
   "source": [
    "volume_is_index = True\n",
    "# sec_data_df = pd.read_csv(analysis_file, header=[0,1], index_col=0)\n",
    "sec_data_dfs = [pd.read_csv(analysis_file, header=[0,1], index_col=0) for analysis file in analysis_files]"
   ]
  },
  {
   "cell_type": "markdown",
   "id": "1e8aed18-7ef1-484d-84d1-d8b5f1399f49",
   "metadata": {},
   "source": [
    "Check if the data is formatted as requested"
   ]
  },
  {
   "cell_type": "code",
   "execution_count": 107,
   "id": "2f8283f0-8fa6-46be-b33f-4dcf67c69f8d",
   "metadata": {},
   "outputs": [
    {
     "data": {
      "text/html": [
       "<div>\n",
       "<style scoped>\n",
       "    .dataframe tbody tr th:only-of-type {\n",
       "        vertical-align: middle;\n",
       "    }\n",
       "\n",
       "    .dataframe tbody tr th {\n",
       "        vertical-align: top;\n",
       "    }\n",
       "\n",
       "    .dataframe thead tr th {\n",
       "        text-align: left;\n",
       "    }\n",
       "</style>\n",
       "<table border=\"1\" class=\"dataframe\">\n",
       "  <thead>\n",
       "    <tr>\n",
       "      <th></th>\n",
       "      <th colspan=\"12\" halign=\"left\">10E Run01</th>\n",
       "    </tr>\n",
       "    <tr>\n",
       "      <th></th>\n",
       "      <th>UV3 (280 nm)_volume</th>\n",
       "      <th>UV3 (280 nm)_mAU</th>\n",
       "      <th>Conductivity_volume</th>\n",
       "      <th>Conductivity_mS/cm</th>\n",
       "      <th>%B_volume</th>\n",
       "      <th>%B_%</th>\n",
       "      <th>delta Col Pressure_volume</th>\n",
       "      <th>delta Col Pressure_MPa</th>\n",
       "      <th>Temperature_volume</th>\n",
       "      <th>Temperature_C</th>\n",
       "      <th>Baseline of UV3 (280 nm)_volume</th>\n",
       "      <th>Baseline of UV3 (280 nm)_mAU</th>\n",
       "    </tr>\n",
       "  </thead>\n",
       "  <tbody>\n",
       "    <tr>\n",
       "      <th>0</th>\n",
       "      <td>-0.993075</td>\n",
       "      <td>0.0</td>\n",
       "      <td>-0.993075</td>\n",
       "      <td>6.052461</td>\n",
       "      <td>-0.993075</td>\n",
       "      <td>100.0</td>\n",
       "      <td>-0.987753</td>\n",
       "      <td>0.013790</td>\n",
       "      <td>-0.993075</td>\n",
       "      <td>11.217049</td>\n",
       "      <td>-0.993075</td>\n",
       "      <td>-326.484680</td>\n",
       "    </tr>\n",
       "    <tr>\n",
       "      <th>1</th>\n",
       "      <td>-0.990585</td>\n",
       "      <td>0.0</td>\n",
       "      <td>-0.990585</td>\n",
       "      <td>6.052461</td>\n",
       "      <td>-0.989755</td>\n",
       "      <td>100.0</td>\n",
       "      <td>-0.978574</td>\n",
       "      <td>0.000000</td>\n",
       "      <td>-0.990585</td>\n",
       "      <td>11.217049</td>\n",
       "      <td>-0.990585</td>\n",
       "      <td>-326.438040</td>\n",
       "    </tr>\n",
       "    <tr>\n",
       "      <th>2</th>\n",
       "      <td>-0.988681</td>\n",
       "      <td>0.0</td>\n",
       "      <td>-0.988681</td>\n",
       "      <td>6.052692</td>\n",
       "      <td>-0.980966</td>\n",
       "      <td>100.0</td>\n",
       "      <td>-0.966269</td>\n",
       "      <td>0.068948</td>\n",
       "      <td>-0.988681</td>\n",
       "      <td>11.217049</td>\n",
       "      <td>-0.988681</td>\n",
       "      <td>-326.402336</td>\n",
       "    </tr>\n",
       "    <tr>\n",
       "      <th>3</th>\n",
       "      <td>-0.986777</td>\n",
       "      <td>NaN</td>\n",
       "      <td>-0.986777</td>\n",
       "      <td>6.052461</td>\n",
       "      <td>-0.968759</td>\n",
       "      <td>100.0</td>\n",
       "      <td>-0.953769</td>\n",
       "      <td>0.275790</td>\n",
       "      <td>-0.986777</td>\n",
       "      <td>11.217049</td>\n",
       "      <td>-0.986777</td>\n",
       "      <td>NaN</td>\n",
       "    </tr>\n",
       "    <tr>\n",
       "      <th>4</th>\n",
       "      <td>-0.984384</td>\n",
       "      <td>NaN</td>\n",
       "      <td>-0.984384</td>\n",
       "      <td>6.052461</td>\n",
       "      <td>-0.956259</td>\n",
       "      <td>100.0</td>\n",
       "      <td>-0.941269</td>\n",
       "      <td>0.427475</td>\n",
       "      <td>-0.984384</td>\n",
       "      <td>11.217049</td>\n",
       "      <td>-0.984384</td>\n",
       "      <td>NaN</td>\n",
       "    </tr>\n",
       "  </tbody>\n",
       "</table>\n",
       "</div>"
      ],
      "text/plain": [
       "            10E Run01                                                          \\\n",
       "  UV3 (280 nm)_volume UV3 (280 nm)_mAU Conductivity_volume Conductivity_mS/cm   \n",
       "0           -0.993075              0.0           -0.993075           6.052461   \n",
       "1           -0.990585              0.0           -0.990585           6.052461   \n",
       "2           -0.988681              0.0           -0.988681           6.052692   \n",
       "3           -0.986777              NaN           -0.986777           6.052461   \n",
       "4           -0.984384              NaN           -0.984384           6.052461   \n",
       "\n",
       "                                                                     \\\n",
       "  %B_volume   %B_% delta Col Pressure_volume delta Col Pressure_MPa   \n",
       "0 -0.993075  100.0                 -0.987753               0.013790   \n",
       "1 -0.989755  100.0                 -0.978574               0.000000   \n",
       "2 -0.980966  100.0                 -0.966269               0.068948   \n",
       "3 -0.968759  100.0                 -0.953769               0.275790   \n",
       "4 -0.956259  100.0                 -0.941269               0.427475   \n",
       "\n",
       "                                                                    \\\n",
       "  Temperature_volume Temperature_C Baseline of UV3 (280 nm)_volume   \n",
       "0          -0.993075     11.217049                       -0.993075   \n",
       "1          -0.990585     11.217049                       -0.990585   \n",
       "2          -0.988681     11.217049                       -0.988681   \n",
       "3          -0.986777     11.217049                       -0.986777   \n",
       "4          -0.984384     11.217049                       -0.984384   \n",
       "\n",
       "                                \n",
       "  Baseline of UV3 (280 nm)_mAU  \n",
       "0                  -326.484680  \n",
       "1                  -326.438040  \n",
       "2                  -326.402336  \n",
       "3                          NaN  \n",
       "4                          NaN  "
      ]
     },
     "execution_count": 107,
     "metadata": {},
     "output_type": "execute_result"
    }
   ],
   "source": [
    "sec_data_dfs[0].head()"
   ]
  },
  {
   "cell_type": "code",
   "execution_count": null,
   "id": "1543bd2b-f9c8-4d24-a0c8-f5bfc8b6200f",
   "metadata": {},
   "outputs": [],
   "source": [
    "run_titles = []\n",
    "for df in sec_data_dfs:\n",
    "    run_titles.extend(df.columns.levels[0].to_list())\n",
    "print('The following chromatograms are available for analysis: \\n%s' % '\\n'.join(run_titles))"
   ]
  },
  {
   "cell_type": "markdown",
   "id": "b4c7140a-c293-40f3-8719-7cea9aac3e0b",
   "metadata": {
    "tags": []
   },
   "source": [
    "## Plotting Options"
   ]
  },
  {
   "cell_type": "markdown",
   "id": "5998cff2-1cc7-4196-814e-965bc6f2a04e",
   "metadata": {},
   "source": [
    "Include specific keywords for plots to include using strings from the title of each run"
   ]
  },
  {
   "cell_type": "code",
   "execution_count": 5,
   "id": "aa67ba24-6a1d-484e-8af8-2b42fd3f7ff9",
   "metadata": {},
   "outputs": [],
   "source": [
    "chromatogram_keywords = []"
   ]
  },
  {
   "cell_type": "markdown",
   "id": "907b91dd-3457-4fbf-9dad-0e2d994f5f2e",
   "metadata": {},
   "source": [
    "How should plots be generated?"
   ]
  },
  {
   "cell_type": "code",
   "execution_count": 51,
   "id": "77133dfb-ab08-4c77-bc80-e0d23b5c3438",
   "metadata": {},
   "outputs": [],
   "source": [
    "only_plot_A280 = True # False # \n",
    "overlap_chromatograms = False # True #  | Will take priority over stack figures, so if True, then regardless, the chromatograms will stack\n",
    "stack_figures = True # False # \n",
    "plot_fractions = True # False # \n",
    "fraction_size = 0.5\n",
    "fraction_start = 8.068\n",
    "fraction_end = 25.0"
   ]
  },
  {
   "cell_type": "code",
   "execution_count": 106,
   "id": "c25574a2-76b7-4703-8882-e15faf9592a1",
   "metadata": {},
   "outputs": [],
   "source": [
    "def split_biorad_chromatogram_dataframe_to_unique_runs(df):\n",
    "    return [df.loc[:, idx_slice[run, :]] for run in df.columns.levels[0].to_list()]"
   ]
  },
  {
   "cell_type": "code",
   "execution_count": 60,
   "id": "ce1e7523-978b-4dfe-b8ca-948afe599afa",
   "metadata": {
    "tags": []
   },
   "outputs": [],
   "source": [
    "def plot_chromatograms(sec_runs, chromatogram_keywords=None, only_280=True, volume_is_column=False, \n",
    "                       stack_figures=False, overlap_chromatograms=False, annotate=True,\n",
    "                       fractions=False, fraction_start=None, fraction_end=None, fraction_size=0.5):\n",
    "\n",
    "    figure_aspect_ratio = (15, 5)\n",
    "    fig = plt.figure(figsize=figure_aspect_ratio)\n",
    "    \n",
    "    if not chromatogram_keywords:\n",
    "        chromatogram_keywords = []\n",
    "#         plot = True\n",
    "    else:\n",
    "#         plot = False\n",
    "        runs_of_interest = []\n",
    "        for idx, run_df in enumerate(sec_runs):\n",
    "            # check whether the particular chromatogram is the desired one based off of keywords\n",
    "            df_name = run_df.columns.levels[0][0]  # level zero, label zero\n",
    "            for keyword in chromatogram_keywords:\n",
    "                if keyword in df_name:\n",
    "                    runs_of_interest.append(run_df)\n",
    "                    break\n",
    "    #         if plot and chromatogram_keywords:  # keyword has been found, reset trigger for next iteration\n",
    "    #             plot = False\n",
    "    #         elif not chromatogram_keywords :  # keywords weren't requested, maintain True\n",
    "    #             plot = True\n",
    "    #         else:  # keyword hasn't been found, skip this plot\n",
    "    #             continue\n",
    "        sec_runs = runs_of_interest\n",
    "    \n",
    "            \n",
    "    if overlap_chromatograms:\n",
    "        axis = fig.subplots(1, 1, sharex=True)\n",
    "        axes = [axis for _ in range(len(sec_runs))]\n",
    "    elif stack_figures:\n",
    "        figs = [plt.figure(figsize=figure_aspect_ratio) for _ in range(len(sec_runs))]\n",
    "        axes = [fig.subplots(1, 1, sharex=True) for fig in figs]\n",
    "    else:\n",
    "        axes = fig.subplots(len(sec_runs), 1, sharex=True)\n",
    "            \n",
    "    for idx, run_df in enumerate(sec_runs):\n",
    "        uv_columns = []\n",
    "        volume = None\n",
    "        for column in run_df.columns.levels[-1].to_list():\n",
    "            if column.startswith('UV'):\n",
    "                if column.endswith('_volume'):\n",
    "                    volume = column\n",
    "                elif only_280:\n",
    "                    if '280 nm' in column:\n",
    "                        uv_columns.append(column)\n",
    "                    else:\n",
    "                        continue\n",
    "                else:\n",
    "                    uv_columns.append(column)\n",
    "                    \n",
    "\n",
    "        if volume_is_column and volume:      \n",
    "            selected_columns = [volume] + uv_columns\n",
    "        else:\n",
    "            selected_columns = uv_columns\n",
    "        \n",
    "#         volume, uv_columns = chromatogram_graph_data[idx] # [vol_idx], chromatogram_graph_data[idx][uv_idx]\n",
    "        run_df.columns = run_df.columns.remove_unused_levels()  # .unique()\n",
    "        formatted_df = run_df.loc[:, idx_slice[:, selected_columns]].droplevel(0, axis=1)\n",
    "        # grab first level, first (and only index)\n",
    "        # df_title = run_df.columns.levels[0].unique()  # Doesn't work as grabs old levels from original DF\n",
    "        df_title = run_df.columns.get_level_values(0).unique()\n",
    "        if len(df_title) != 1:\n",
    "            print('Error, multiple headers detected in dataframe %s!\\n%s' % (df_title, run_df.head()))\n",
    "            break\n",
    "        # formatted_df = formatted_df[formatted_df[volume] > 0.007]\n",
    "        # format the volume as the dependent variable\n",
    "        if volume_is_column:      \n",
    "            formatted_df.index = formatted_df[volume]\n",
    "            formatted_df.drop(volume, axis=1, inplace=True)\n",
    "        formatted_df.index.name = 'Volume'\n",
    "        \n",
    "        # format column names to be pretty\n",
    "        formatted_df.columns = formatted_df.columns.map(dict(zip(formatted_df.columns, \n",
    "            map(str.strip, \n",
    "                map(str.strip, \n",
    "                    map(str.replace, \n",
    "                        map(str.replace, formatted_df.columns, repeat('_mAU'), repeat('')),\n",
    "                        repeat('UV'), repeat('')), \n",
    "                    repeat('1234567890 ')), \n",
    "                repeat('()')))))\n",
    "#         formatted_df.plot(title=df_title[0])\n",
    "        axes[idx].plot(formatted_df.index.values, formatted_df.values, label=df_name) # formatted_df.columns)\n",
    "        axes[idx].legend()\n",
    "        axes[idx].set_xlim(0, None)\n",
    "        if fractions:\n",
    "            if not annotate:\n",
    "                continue\n",
    "            if not fraction_start:\n",
    "                fraction_start = 0.\n",
    "            if not fraction_end:\n",
    "                fraction_end = formatted_df.index[-1]\n",
    "            number_of_fractions = (fraction_end - fraction_start) / fraction_size\n",
    "            fraction_start_volumes = [fraction_start + (fraction_size * fraction) for fraction in range(ceil(number_of_fractions))]\n",
    "            axes[idx].vlines(fraction_start_volumes, 0, 1, transform=axes[idx].get_xaxis_transform(), label='Fractions', colors=['#cccccc' if idx % 2 == 1 else '#000eee' for idx, _ in enumerate(fraction_start_volumes)])\n",
    "            max_height = formatted_df.max()\n",
    "            for f_idx, volume in enumerate(fraction_start_volumes, 1):\n",
    "#                 axes[idx].annotate(f_idx, xy=(volume, max_height),\n",
    "                axes[idx].annotate(f_idx, xy=(volume, 1),  xycoords=('data', 'axes fraction'), textcoords=('data', 'axes fraction') , # xycoords=axes[idx], textcoords=axes[idx],  #   # xytext=(-3, np.sign(l)*3),\n",
    "                                   horizontalalignment='left', verticalalignment='top')\n",
    "#                 matplotlib.patches.Rectangle(xy, width, height, angle=0.0, **kwargs)\n",
    "            if overlap_chromatograms:\n",
    "                annotate = False\n",
    "#         if stack_figures:\n",
    "#             plt.show()\n",
    "#     if not stack_figures:\n",
    "    plt.show()"
   ]
  },
  {
   "cell_type": "code",
   "execution_count": 97,
   "id": "fef07940-cf76-4929-bf9a-15a6933f77c5",
   "metadata": {},
   "outputs": [],
   "source": [
    "sec_runs = []\n",
    "for df in sec_data_dfs:\n",
    "    sec_runs.extend(split_biorad_chromatogram_dataframe_to_unique_runs(df))"
   ]
  },
  {
   "cell_type": "code",
   "execution_count": null,
   "id": "3b0740e5-f8e9-4a0e-83d8-5f1d81a99e89",
   "metadata": {},
   "outputs": [],
   "source": [
    "plot_chromatograms(sec_runs, chromatogram_keywords=chromatogram_keywords, only_280=only_plot_A280, \n",
    "                   overlap_chromatograms=overlap_chromatograms, stack_figures=stack_figures,\n",
    "                   volume_is_column= not volume_is_index, fractions=plot_fractions,\n",
    "                   fraction_start=fraction_start, fraction_end=fraction_end, fraction_size=fraction_size)"
   ]
  },
  {
   "cell_type": "code",
   "execution_count": null,
   "id": "d27077cb-0513-4318-80fd-4b73334a6386",
   "metadata": {},
   "outputs": [],
   "source": []
  }
 ],
 "metadata": {
  "kernelspec": {
   "display_name": "symdesign",
   "language": "python",
   "name": "symdesign"
  },
  "language_info": {
   "codemirror_mode": {
    "name": "ipython",
    "version": 3
   },
   "file_extension": ".py",
   "mimetype": "text/x-python",
   "name": "python",
   "nbconvert_exporter": "python",
   "pygments_lexer": "ipython3",
   "version": "3.8.10"
  }
 },
 "nbformat": 4,
 "nbformat_minor": 5
}
