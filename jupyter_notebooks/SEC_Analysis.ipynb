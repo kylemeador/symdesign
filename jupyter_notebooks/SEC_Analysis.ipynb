{
 "cells": [
  {
   "cell_type": "code",
   "execution_count": 1,
   "id": "f023a396-6a98-4309-8192-abc50c2e677f",
   "metadata": {},
   "outputs": [],
   "source": [
    "import os\n",
    "# import math\n",
    "from itertools import repeat\n",
    "import pandas as pd\n",
    "import numpy as np\n",
    "import matplotlib.pyplot as plt\n",
    "pd.set_option('display.max_columns', None)  # if you need to view less rows, comment\n",
    "# pd.set_option('display.max_rows', None)  # if you need to view more rows, uncomment\n",
    "mean = 'mean'\n",
    "std = 'std'\n",
    "idx_slice = pd.IndexSlice"
   ]
  },
  {
   "cell_type": "code",
   "execution_count": 72,
   "id": "51147d43-beeb-4d53-9d32-9b3a0876bf5d",
   "metadata": {},
   "outputs": [],
   "source": [
    "file_location = '/home/kmeador/SEC' # escher\n",
    "# file_location = '/home/kylemeador' # powerpanda\n",
    "file_name = '211008_10E_SEC_Superdex200'\n",
    "extension = 'csv'\n",
    "analysis_file = os.path.join(file_location, '%s.%s' % (file_name, extension))"
   ]
  },
  {
   "cell_type": "code",
   "execution_count": 19,
   "id": "03d4ec0a-1b67-4580-b254-c9e45f69ef5c",
   "metadata": {},
   "outputs": [],
   "source": []
  },
  {
   "cell_type": "markdown",
   "id": "82dcdf21-cb03-4dc4-80da-badffee66154",
   "metadata": {},
   "source": [
    "## Check DataFrame columns and values"
   ]
  },
  {
   "cell_type": "markdown",
   "id": "ab22a247-34f5-4b26-864e-86857884e493",
   "metadata": {},
   "source": [
    "### for datasets that are exported with volumes for every measurement"
   ]
  },
  {
   "cell_type": "code",
   "execution_count": 107,
   "id": "78961120-4d9f-4212-8aa7-6984a608c7c2",
   "metadata": {},
   "outputs": [],
   "source": [
    "sec_data_df = pd.read_csv(analysis_file, header=[0,1])"
   ]
  },
  {
   "cell_type": "markdown",
   "id": "229d6529-35dc-402b-8821-79665ab34ab2",
   "metadata": {},
   "source": [
    "### For datasets that are exported with normalized volumes (every measurement is indexed to the same volume)"
   ]
  },
  {
   "cell_type": "code",
   "execution_count": 107,
   "id": "a3bbcc03-fdeb-44fe-a2b8-1282cb12d5ad",
   "metadata": {},
   "outputs": [],
   "source": [
    "sec_data_df = pd.read_csv(analysis_file, header=[0,1], index_col=0)"
   ]
  },
  {
   "cell_type": "code",
   "execution_count": 107,
   "id": "656e8f57-ea05-4a15-9426-f52e558a5f36",
   "metadata": {},
   "outputs": [
    {
     "data": {
      "text/html": [
       "<div>\n",
       "<style scoped>\n",
       "    .dataframe tbody tr th:only-of-type {\n",
       "        vertical-align: middle;\n",
       "    }\n",
       "\n",
       "    .dataframe tbody tr th {\n",
       "        vertical-align: top;\n",
       "    }\n",
       "\n",
       "    .dataframe thead tr th {\n",
       "        text-align: left;\n",
       "    }\n",
       "</style>\n",
       "<table border=\"1\" class=\"dataframe\">\n",
       "  <thead>\n",
       "    <tr>\n",
       "      <th></th>\n",
       "      <th colspan=\"12\" halign=\"left\">10E Run01</th>\n",
       "    </tr>\n",
       "    <tr>\n",
       "      <th></th>\n",
       "      <th>UV3 (280 nm)_volume</th>\n",
       "      <th>UV3 (280 nm)_mAU</th>\n",
       "      <th>Conductivity_volume</th>\n",
       "      <th>Conductivity_mS/cm</th>\n",
       "      <th>%B_volume</th>\n",
       "      <th>%B_%</th>\n",
       "      <th>delta Col Pressure_volume</th>\n",
       "      <th>delta Col Pressure_MPa</th>\n",
       "      <th>Temperature_volume</th>\n",
       "      <th>Temperature_C</th>\n",
       "      <th>Baseline of UV3 (280 nm)_volume</th>\n",
       "      <th>Baseline of UV3 (280 nm)_mAU</th>\n",
       "    </tr>\n",
       "  </thead>\n",
       "  <tbody>\n",
       "    <tr>\n",
       "      <th>0</th>\n",
       "      <td>-0.993075</td>\n",
       "      <td>0.0</td>\n",
       "      <td>-0.993075</td>\n",
       "      <td>6.052461</td>\n",
       "      <td>-0.993075</td>\n",
       "      <td>100.0</td>\n",
       "      <td>-0.987753</td>\n",
       "      <td>0.013790</td>\n",
       "      <td>-0.993075</td>\n",
       "      <td>11.217049</td>\n",
       "      <td>-0.993075</td>\n",
       "      <td>-326.484680</td>\n",
       "    </tr>\n",
       "    <tr>\n",
       "      <th>1</th>\n",
       "      <td>-0.990585</td>\n",
       "      <td>0.0</td>\n",
       "      <td>-0.990585</td>\n",
       "      <td>6.052461</td>\n",
       "      <td>-0.989755</td>\n",
       "      <td>100.0</td>\n",
       "      <td>-0.978574</td>\n",
       "      <td>0.000000</td>\n",
       "      <td>-0.990585</td>\n",
       "      <td>11.217049</td>\n",
       "      <td>-0.990585</td>\n",
       "      <td>-326.438040</td>\n",
       "    </tr>\n",
       "    <tr>\n",
       "      <th>2</th>\n",
       "      <td>-0.988681</td>\n",
       "      <td>0.0</td>\n",
       "      <td>-0.988681</td>\n",
       "      <td>6.052692</td>\n",
       "      <td>-0.980966</td>\n",
       "      <td>100.0</td>\n",
       "      <td>-0.966269</td>\n",
       "      <td>0.068948</td>\n",
       "      <td>-0.988681</td>\n",
       "      <td>11.217049</td>\n",
       "      <td>-0.988681</td>\n",
       "      <td>-326.402336</td>\n",
       "    </tr>\n",
       "    <tr>\n",
       "      <th>3</th>\n",
       "      <td>-0.986777</td>\n",
       "      <td>NaN</td>\n",
       "      <td>-0.986777</td>\n",
       "      <td>6.052461</td>\n",
       "      <td>-0.968759</td>\n",
       "      <td>100.0</td>\n",
       "      <td>-0.953769</td>\n",
       "      <td>0.275790</td>\n",
       "      <td>-0.986777</td>\n",
       "      <td>11.217049</td>\n",
       "      <td>-0.986777</td>\n",
       "      <td>NaN</td>\n",
       "    </tr>\n",
       "    <tr>\n",
       "      <th>4</th>\n",
       "      <td>-0.984384</td>\n",
       "      <td>NaN</td>\n",
       "      <td>-0.984384</td>\n",
       "      <td>6.052461</td>\n",
       "      <td>-0.956259</td>\n",
       "      <td>100.0</td>\n",
       "      <td>-0.941269</td>\n",
       "      <td>0.427475</td>\n",
       "      <td>-0.984384</td>\n",
       "      <td>11.217049</td>\n",
       "      <td>-0.984384</td>\n",
       "      <td>NaN</td>\n",
       "    </tr>\n",
       "  </tbody>\n",
       "</table>\n",
       "</div>"
      ],
      "text/plain": [
       "            10E Run01                                                          \\\n",
       "  UV3 (280 nm)_volume UV3 (280 nm)_mAU Conductivity_volume Conductivity_mS/cm   \n",
       "0           -0.993075              0.0           -0.993075           6.052461   \n",
       "1           -0.990585              0.0           -0.990585           6.052461   \n",
       "2           -0.988681              0.0           -0.988681           6.052692   \n",
       "3           -0.986777              NaN           -0.986777           6.052461   \n",
       "4           -0.984384              NaN           -0.984384           6.052461   \n",
       "\n",
       "                                                                     \\\n",
       "  %B_volume   %B_% delta Col Pressure_volume delta Col Pressure_MPa   \n",
       "0 -0.993075  100.0                 -0.987753               0.013790   \n",
       "1 -0.989755  100.0                 -0.978574               0.000000   \n",
       "2 -0.980966  100.0                 -0.966269               0.068948   \n",
       "3 -0.968759  100.0                 -0.953769               0.275790   \n",
       "4 -0.956259  100.0                 -0.941269               0.427475   \n",
       "\n",
       "                                                                    \\\n",
       "  Temperature_volume Temperature_C Baseline of UV3 (280 nm)_volume   \n",
       "0          -0.993075     11.217049                       -0.993075   \n",
       "1          -0.990585     11.217049                       -0.990585   \n",
       "2          -0.988681     11.217049                       -0.988681   \n",
       "3          -0.986777     11.217049                       -0.986777   \n",
       "4          -0.984384     11.217049                       -0.984384   \n",
       "\n",
       "                                \n",
       "  Baseline of UV3 (280 nm)_mAU  \n",
       "0                  -326.484680  \n",
       "1                  -326.438040  \n",
       "2                  -326.402336  \n",
       "3                          NaN  \n",
       "4                          NaN  "
      ]
     },
     "execution_count": 107,
     "metadata": {},
     "output_type": "execute_result"
    }
   ],
   "source": [
    "sec_data_df.head()"
   ]
  },
  {
   "cell_type": "code",
   "execution_count": 106,
   "id": "c25574a2-76b7-4703-8882-e15faf9592a1",
   "metadata": {},
   "outputs": [],
   "source": [
    "def split_biorad_chromatogram_dataframe_to_unique_runs(df):\n",
    "    split_dfs = []\n",
    "    for run in df.columns.levels[0].to_list():\n",
    "        split_dfs.append(df.loc[:, idx_slice[run, :]])\n",
    "    \n",
    "    return split_dfs"
   ]
  },
  {
   "cell_type": "code",
   "execution_count": 96,
   "id": "71036aa0-bd69-4f0e-9ddf-059386360499",
   "metadata": {},
   "outputs": [],
   "source": [
    "def extract_volume_and_uv_columns_from_biorad_chromatogram(df):\n",
    "    uv_columns = []\n",
    "    volume = None\n",
    "    for column in df.columns.levels[-1].to_list():\n",
    "        if column.startswith('UV'):\n",
    "            if column.endswith('_volume'):  # not volume and \n",
    "                volume = column\n",
    "            else:\n",
    "                uv_columns.append(column)\n",
    "    return volume, uv_columns"
   ]
  },
  {
   "cell_type": "code",
   "execution_count": 97,
   "id": "6e739c59-61fc-4a63-812f-56b4a26b5cdd",
   "metadata": {},
   "outputs": [],
   "source": [
    "sec_runs = split_biorad_chromatogram_dataframe_to_unique_runs(sec_data_df)\n",
    "chromatogram_graph_data = [extract_volume_and_uv_columns_from_biorad_chromatogram(run_df) for run_df in sec_runs]"
   ]
  },
  {
   "cell_type": "code",
   "execution_count": 100,
   "id": "eff93bea-9fad-4ca3-8a3b-04276b6ada0f",
   "metadata": {},
   "outputs": [
    {
     "name": "stdout",
     "output_type": "stream",
     "text": [
      "UV3 (280 nm)_volume ['UV3 (280 nm)_mAU']\n"
     ]
    }
   ],
   "source": [
    "volume, uv_columns = chromatogram_graph_data[0]\n",
    "print(volume, uv_columns)"
   ]
  },
  {
   "cell_type": "code",
   "execution_count": 23,
   "id": "74634a87-b20c-43ef-ba64-9420d6dc3028",
   "metadata": {
    "tags": []
   },
   "outputs": [],
   "source": [
    "vol_idx, uv_idx = 0, 1\n",
    "for idx, run_df in enumerate(sec_runs):\n",
    "    volume, uv_columns = chromatogram_graph_data[idx][vol_idx], chromatogram_graph_data[idx][uv_idx]\n",
    "    formatted_df = run_df.loc[:, idx_slice[:, [volume] + uv_columns]].droplevel(0, axis=1)\n",
    "    # grab first level, first (and only index)\n",
    "    # df_title = run_df.columns.levels[0].unique()  # Doesn't work as grabs old levels from original DF\n",
    "    df_title = run_df.columns.get_level_values(0).unique()\n",
    "    if len(df_title) != 1:\n",
    "        print('Error, multiple headers detected in dataframe %s!\\n%s' % (df_title, run_df.head()))\n",
    "        break\n",
    "    # formatted_df = formatted_df[formatted_df[volume] > 0.007]\n",
    "    # format the volume as the dependent variable\n",
    "    formatted_df.index = formatted_df[volume]\n",
    "    formatted_df.index.name = 'Volume'\n",
    "    formatted_df.drop(volume, axis=1, inplace=True)\n",
    "    # format column names to be pretty\n",
    "    formatted_df.columns = formatted_df.columns.map(dict(zip(formatted_df.columns, \n",
    "        map(str.strip, \n",
    "            map(str.strip, \n",
    "                map(str.replace, \n",
    "                    map(str.replace, formatted_df.columns, repeat('_mAU'), repeat('')),\n",
    "                    repeat('UV'), repeat('')), \n",
    "                repeat('1234567890 ')), \n",
    "            repeat('()')))))\n",
    "    formatted_df.plot()"
   ]
  },
  {
   "cell_type": "code",
   "execution_count": 104,
   "id": "9ef29e0b-f10b-4d08-90f3-e87d3ff13472",
   "metadata": {},
   "outputs": [
    {
     "data": {
      "image/png": "[encoded data removed]",
      "text/plain": [
       "<Figure size 640x480 with 1 Axes>"
      ]
     },
     "metadata": {},
     "output_type": "display_data"
    }
   ],
   "source": [
    "plt.show()"
   ]
  },
  {
   "cell_type": "code",
   "execution_count": 94,
   "id": "094679ed-d3cd-4cc6-883a-ea78e241ac47",
   "metadata": {},
   "outputs": [],
   "source": [
    "#formatted_df"
   ]
  },
  {
   "cell_type": "code",
   "execution_count": 91,
   "id": "e76964aa-b56f-4916-ac2e-4736101742c5",
   "metadata": {},
   "outputs": [
    {
     "data": {
      "text/plain": [
       "<AxesSubplot:xlabel='volume'>"
      ]
     },
     "execution_count": 91,
     "metadata": {},
     "output_type": "execute_result"
    }
   ],
   "source": [
    "formatted_df['280 nm'].plot()"
   ]
  },
  {
   "cell_type": "code",
   "execution_count": 92,
   "id": "a33d6cb1-06ae-490b-826c-bfb86f79a5d7",
   "metadata": {},
   "outputs": [
    {
     "data": {
      "text/plain": [
       "<AxesSubplot:xlabel='volume'>"
      ]
     },
     "execution_count": 92,
     "metadata": {},
     "output_type": "execute_result"
    }
   ],
   "source": [
    "formatted_df.plot()"
   ]
  },
  {
   "cell_type": "code",
   "execution_count": 93,
   "id": "8f307441-8718-43d0-8534-d50467db259d",
   "metadata": {},
   "outputs": [
    {
     "data": {
      "image/png": "[encoded data removed]",
      "text/plain": [
       "<Figure size 1000x400 with 1 Axes>"
      ]
     },
     "metadata": {},
     "output_type": "display_data"
    },
    {
     "data": {
      "image/png": "[encoded data removed]",
      "text/plain": [
       "<Figure size 640x480 with 1 Axes>"
      ]
     },
     "metadata": {},
     "output_type": "display_data"
    }
   ],
   "source": [
    "plt.show()"
   ]
  },
  {
   "cell_type": "code",
   "execution_count": 85,
   "id": "f7e11cc8-d534-4ec5-8198-f3d72e990970",
   "metadata": {},
   "outputs": [
    {
     "data": {
      "text/plain": [
       "[<matplotlib.lines.Line2D at 0x2b30b7d8e370>]"
      ]
     },
     "execution_count": 85,
     "metadata": {},
     "output_type": "execute_result"
    }
   ],
   "source": [
    "figure_aspect_ratio = (10, 4)\n",
    "fig = plt.figure(figsize=figure_aspect_ratio)\n",
    "uv_ax = fig.subplots(1, 1)\n",
    "uv_ax.plot(formatted_df, ) # label='Contact Order', color='#fbc0cb', lw=1, linestyle='-'"
   ]
  },
  {
   "cell_type": "code",
   "execution_count": 86,
   "id": "0177dc42-f499-4bf3-9930-b6e9cd9e517b",
   "metadata": {},
   "outputs": [],
   "source": [
    "fig.clear()"
   ]
  },
  {
   "cell_type": "code",
   "execution_count": null,
   "id": "d27077cb-0513-4318-80fd-4b73334a6386",
   "metadata": {},
   "outputs": [],
   "source": []
  }
 ],
 "metadata": {
  "kernelspec": {
   "display_name": "symdesign",
   "language": "python",
   "name": "symdesign"
  },
  "language_info": {
   "codemirror_mode": {
    "name": "ipython",
    "version": 3
   },
   "file_extension": ".py",
   "mimetype": "text/x-python",
   "name": "python",
   "nbconvert_exporter": "python",
   "pygments_lexer": "ipython3",
   "version": "3.8.10"
  }
 },
 "nbformat": 4,
 "nbformat_minor": 5
}
