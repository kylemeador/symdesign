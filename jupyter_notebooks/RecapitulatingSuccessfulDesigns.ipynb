{
 "cells": [
  {
   "cell_type": "code",
   "execution_count": 41,
   "id": "short-employment",
   "metadata": {},
   "outputs": [],
   "source": [
    "from sklearn.neighbors import NearestNeighbors\n",
    "import sklearn\n",
    "from PDB import PDB\n",
    "from Structure import superposition3d\n",
    "import SymDesignUtils as SDUtils"
   ]
  },
  {
   "cell_type": "code",
   "execution_count": 17,
   "id": "documentary-listing",
   "metadata": {},
   "outputs": [],
   "source": [
    "%load_ext autoreload\n",
    "%autoreload 2"
   ]
  },
  {
   "cell_type": "code",
   "execution_count": 18,
   "id": "superb-facing",
   "metadata": {},
   "outputs": [
    {
     "name": "stdout",
     "output_type": "stream",
     "text": [
      "/home/kylemeador/symdesign/jupyter_notebooks\n"
     ]
    }
   ],
   "source": [
    "!pwd"
   ]
  },
  {
   "cell_type": "code",
   "execution_count": 15,
   "id": "intended-devon",
   "metadata": {},
   "outputs": [
    {
     "name": "stdout",
     "output_type": "stream",
     "text": [
      "\n",
      "System:\n",
      "    python: 3.7.9 | packaged by conda-forge | (default, Dec  9 2020, 21:08:20)  [GCC 9.3.0]\n",
      "executable: /home/kylemeador/miniconda3/bin/python\n",
      "   machine: Linux-5.4.0-67-generic-x86_64-with-debian-bullseye-sid\n",
      "\n",
      "Python dependencies:\n",
      "          pip: 21.0.1\n",
      "   setuptools: 49.6.0.post20210108\n",
      "      sklearn: 0.24.1\n",
      "        numpy: 1.19.5\n",
      "        scipy: 1.5.3\n",
      "       Cython: None\n",
      "       pandas: 1.2.1\n",
      "   matplotlib: 3.3.3\n",
      "       joblib: 1.0.1\n",
      "threadpoolctl: 2.1.0\n",
      "\n",
      "Built with OpenMP: True\n",
      "[array([0.4, 1. , 1.2]) array([], dtype=float64) array([0.2, 1. , 1.4])\n",
      " array([0.4, 1.4]) array([0.2, 1.2])]\n",
      "[array([3, 2, 4]) array([], dtype=int64) array([4, 0, 3]) array([0, 2])\n",
      " array([2, 0])]\n"
     ]
    }
   ],
   "source": [
    "sklearn.show_versions()\n",
    "X = [[0], [3], [1], [-0.4], [1.2]]\n",
    "neigh = NearestNeighbors(algorithm='ball_tree', radius=1.5)\n",
    "neigh.fit(X)\n",
    "\n",
    "A, I = neigh.radius_neighbors(sort_results=True)\n",
    "print(A)\n",
    "print(I)\n",
    "# A.toarray()\n",
    "# A = neigh.radius_neighbors_graph(X, mode='distance', sort_results=True)\n",
    "# A.toarray()"
   ]
  },
  {
   "cell_type": "code",
   "execution_count": 7,
   "id": "miniature-square",
   "metadata": {},
   "outputs": [
    {
     "data": {
      "text/plain": [
       "array([[0. , 0. , 1. , 0.4, 1.2],\n",
       "       [0. , 0. , 0. , 0. , 0. ],\n",
       "       [1. , 0. , 0. , 1.4, 0.2],\n",
       "       [0.4, 0. , 1.4, 0. , 0. ],\n",
       "       [1.2, 0. , 0.2, 0. , 0. ]])"
      ]
     },
     "execution_count": 7,
     "metadata": {},
     "output_type": "execute_result"
    }
   ],
   "source": [
    "B = neigh.radius_neighbors_graph(mode='distance')  #, sort_results=True)\n",
    "# B\n",
    "B.toarray()"
   ]
  },
  {
   "cell_type": "code",
   "execution_count": 19,
   "id": "engaging-highlight",
   "metadata": {},
   "outputs": [],
   "source": [
    "test_file = '/home/kylemeador/symdesign/successful_designs/biological_assemblies/4NWN.pdb1'\n",
    "files = SDUtils.get_all_file_paths('/home/kylemeador/symdesign/successful_designs/biological_assemblies/', extension='.pdb1')"
   ]
  },
  {
   "cell_type": "code",
   "execution_count": null,
   "id": "double-athletics",
   "metadata": {},
   "outputs": [],
   "source": [
    "files = [test_file]\n",
    "symmetries = ['T']"
   ]
  },
  {
   "cell_type": "code",
   "execution_count": 35,
   "id": "governing-absolute",
   "metadata": {},
   "outputs": [],
   "source": [
    "for file, sym in zip(files, symmetries):\n",
    "    pdb = PDB.from_file(file)\n",
    "    homo_pdb = PDB.from_chains(pdb.entities[0].chains, metadata=pdb)\n",
    "    oriented_pdb = homo_pdb.orient(sym=sym)\n",
    "    asu = pdb.return_asu(chain=pdb.entities[0].chains[0].name)\n",
    "    rmsd, rot, tx, rescale = superposition3d(asu.chains[0].get_ca_coords(), oriented_pdb.chains[0].get_ca_coords())\n",
    "    transformed_asu = asu.return_transformed_copy(rotation=rot, translation=tx)\n",
    "    transformed_asu.write(out_path=os.path.join('/home/kylemeador/symdesign/successful_designs/asus', '%s.pdb1' % transformed_asu.name))"
   ]
  },
  {
   "cell_type": "markdown",
   "id": "approximate-christopher",
   "metadata": {},
   "source": [
    "# Below were tests for a single design"
   ]
  },
  {
   "cell_type": "code",
   "execution_count": 36,
   "id": "tamil-framework",
   "metadata": {},
   "outputs": [
    {
     "name": "stdout",
     "output_type": "stream",
     "text": [
      "['A', 'C', 'E', 'G', 'I', 'K', 'M', 'O', 'Q', 'S', 'U', 'W']\n"
     ]
    },
    {
     "data": {
      "text/plain": [
       "'4NWN'"
      ]
     },
     "execution_count": 36,
     "metadata": {},
     "output_type": "execute_result"
    }
   ],
   "source": [
    "print(homo_pdb.chain_id_list)\n",
    "homo_pdb.name"
   ]
  },
  {
   "cell_type": "code",
   "execution_count": 38,
   "id": "second-astrology",
   "metadata": {},
   "outputs": [],
   "source": [
    "oriented_pdb = homo_pdb.orient(sym='T')\n",
    "# oriented_pdb.write(out_path=os.path.join('/home/kylemeador/symdesign/successful_designs/oriented/half', '%s.pdb1' % oriented_pdb.name))"
   ]
  },
  {
   "cell_type": "code",
   "execution_count": 39,
   "id": "logical-matthew",
   "metadata": {},
   "outputs": [],
   "source": [
    "### Need to transform the asu onto the half oriented_pdb"
   ]
  },
  {
   "cell_type": "code",
   "execution_count": null,
   "id": "different-explosion",
   "metadata": {},
   "outputs": [],
   "source": [
    "asu = pdb.return_asu(chain=pdb.entities[0].chains[0].name)\n",
    "rmsd, rot, tx, rescale = superposition3d(asu.chains[0].get_ca_coords(), oriented_pdb.chains[0].get_ca_coords())\n",
    "transformed_asu = asu.return_transformed_copy(rotation=rot, translation=tx)"
   ]
  },
  {
   "cell_type": "code",
   "execution_count": 24,
   "id": "dynamic-offset",
   "metadata": {},
   "outputs": [
    {
     "data": {
      "text/plain": [
       "'/home/kylemeador/symdesign/successful_designs/asus/4NWN_PDB.pdb1'"
      ]
     },
     "execution_count": 24,
     "metadata": {},
     "output_type": "execute_result"
    }
   ],
   "source": [
    "transformed_asu.write(out_path=os.path.join('/home/kylemeador/symdesign/successful_designs/asus', '%s.pdb1' % transformed_asu.name))"
   ]
  }
 ],
 "metadata": {
  "kernelspec": {
   "display_name": "Python 3",
   "language": "python",
   "name": "python3"
  },
  "language_info": {
   "codemirror_mode": {
    "name": "ipython",
    "version": 3
   },
   "file_extension": ".py",
   "mimetype": "text/x-python",
   "name": "python",
   "nbconvert_exporter": "python",
   "pygments_lexer": "ipython3",
   "version": "3.7.9"
  }
 },
 "nbformat": 4,
 "nbformat_minor": 5
}
